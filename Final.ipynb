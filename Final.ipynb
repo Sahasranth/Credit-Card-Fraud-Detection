{
 "cells": [
  {
   "cell_type": "markdown",
   "id": "d3ca4130-ca5a-4893-a661-0b4d64ded1e2",
   "metadata": {},
   "source": [
    "<font size= \"5\"> Introduction  </font>  \n",
    "In this kernel, we are going to predict whether a credit card is fraud or not using Machine Learning.  \n",
    "  \n",
    "The datasets contains transactions made by credit cards in September 2013 by european cardholders. This dataset presents transactions that occurred in  two days, where we have 492 frauds out of 284,807 transactions. The dataset is highly unbalanced, the positive class (frauds)  account for 0.172% of  all transactions.  \n",
    "   \n",
    "Due to confidentiality issues, the input variables are transformed into numerical using PCA transformations.  "
   ]
  },
  {
   "cell_type": "markdown",
   "id": "400f3748-69ad-4a5b-a12e-10ee182c5950",
   "metadata": {},
   "source": [
    "<font size=\"5\">Importing the required python libraries </font>"
   ]
  },
  {
   "cell_type": "code",
   "execution_count": 1,
   "id": "e9f58ff4-4130-4a7b-9139-3c7b5cad25ec",
   "metadata": {},
   "outputs": [],
   "source": [
    "import pandas as pd\n",
    "import numpy as np\n",
    "import matplotlib.pyplot as plt\n",
    "import seaborn as sns\n",
    "import warnings\n",
    "\n",
    "%matplotlib inline\n",
    "sns.set()\n",
    "warnings.simplefilter('ignore')"
   ]
  },
  {
   "cell_type": "markdown",
   "id": "f052c2d3-3d23-46a4-b6bf-626842e4b238",
   "metadata": {},
   "source": [
    "<font size=\"5\"> Data Preprocessing </font>   \n",
    "Let's get the dataset into a pandas dataframe."
   ]
  },
  {
   "cell_type": "code",
   "execution_count": 2,
   "id": "8c148bfc-131c-4339-97fe-6f7ad439c014",
   "metadata": {},
   "outputs": [
    {
     "data": {
      "text/html": [
       "<div>\n",
       "<style scoped>\n",
       "    .dataframe tbody tr th:only-of-type {\n",
       "        vertical-align: middle;\n",
       "    }\n",
       "\n",
       "    .dataframe tbody tr th {\n",
       "        vertical-align: top;\n",
       "    }\n",
       "\n",
       "    .dataframe thead th {\n",
       "        text-align: right;\n",
       "    }\n",
       "</style>\n",
       "<table border=\"1\" class=\"dataframe\">\n",
       "  <thead>\n",
       "    <tr style=\"text-align: right;\">\n",
       "      <th></th>\n",
       "      <th>Time</th>\n",
       "      <th>V1</th>\n",
       "      <th>V2</th>\n",
       "      <th>V3</th>\n",
       "      <th>V4</th>\n",
       "      <th>V5</th>\n",
       "      <th>V6</th>\n",
       "      <th>V7</th>\n",
       "      <th>V8</th>\n",
       "      <th>V9</th>\n",
       "      <th>...</th>\n",
       "      <th>V21</th>\n",
       "      <th>V22</th>\n",
       "      <th>V23</th>\n",
       "      <th>V24</th>\n",
       "      <th>V25</th>\n",
       "      <th>V26</th>\n",
       "      <th>V27</th>\n",
       "      <th>V28</th>\n",
       "      <th>Amount</th>\n",
       "      <th>Class</th>\n",
       "    </tr>\n",
       "  </thead>\n",
       "  <tbody>\n",
       "    <tr>\n",
       "      <th>0</th>\n",
       "      <td>0.0</td>\n",
       "      <td>-1.359807</td>\n",
       "      <td>-0.072781</td>\n",
       "      <td>2.536347</td>\n",
       "      <td>1.378155</td>\n",
       "      <td>-0.338321</td>\n",
       "      <td>0.462388</td>\n",
       "      <td>0.239599</td>\n",
       "      <td>0.098698</td>\n",
       "      <td>0.363787</td>\n",
       "      <td>...</td>\n",
       "      <td>-0.018307</td>\n",
       "      <td>0.277838</td>\n",
       "      <td>-0.110474</td>\n",
       "      <td>0.066928</td>\n",
       "      <td>0.128539</td>\n",
       "      <td>-0.189115</td>\n",
       "      <td>0.133558</td>\n",
       "      <td>-0.021053</td>\n",
       "      <td>149.62</td>\n",
       "      <td>0</td>\n",
       "    </tr>\n",
       "    <tr>\n",
       "      <th>1</th>\n",
       "      <td>0.0</td>\n",
       "      <td>1.191857</td>\n",
       "      <td>0.266151</td>\n",
       "      <td>0.166480</td>\n",
       "      <td>0.448154</td>\n",
       "      <td>0.060018</td>\n",
       "      <td>-0.082361</td>\n",
       "      <td>-0.078803</td>\n",
       "      <td>0.085102</td>\n",
       "      <td>-0.255425</td>\n",
       "      <td>...</td>\n",
       "      <td>-0.225775</td>\n",
       "      <td>-0.638672</td>\n",
       "      <td>0.101288</td>\n",
       "      <td>-0.339846</td>\n",
       "      <td>0.167170</td>\n",
       "      <td>0.125895</td>\n",
       "      <td>-0.008983</td>\n",
       "      <td>0.014724</td>\n",
       "      <td>2.69</td>\n",
       "      <td>0</td>\n",
       "    </tr>\n",
       "    <tr>\n",
       "      <th>2</th>\n",
       "      <td>1.0</td>\n",
       "      <td>-1.358354</td>\n",
       "      <td>-1.340163</td>\n",
       "      <td>1.773209</td>\n",
       "      <td>0.379780</td>\n",
       "      <td>-0.503198</td>\n",
       "      <td>1.800499</td>\n",
       "      <td>0.791461</td>\n",
       "      <td>0.247676</td>\n",
       "      <td>-1.514654</td>\n",
       "      <td>...</td>\n",
       "      <td>0.247998</td>\n",
       "      <td>0.771679</td>\n",
       "      <td>0.909412</td>\n",
       "      <td>-0.689281</td>\n",
       "      <td>-0.327642</td>\n",
       "      <td>-0.139097</td>\n",
       "      <td>-0.055353</td>\n",
       "      <td>-0.059752</td>\n",
       "      <td>378.66</td>\n",
       "      <td>0</td>\n",
       "    </tr>\n",
       "    <tr>\n",
       "      <th>3</th>\n",
       "      <td>1.0</td>\n",
       "      <td>-0.966272</td>\n",
       "      <td>-0.185226</td>\n",
       "      <td>1.792993</td>\n",
       "      <td>-0.863291</td>\n",
       "      <td>-0.010309</td>\n",
       "      <td>1.247203</td>\n",
       "      <td>0.237609</td>\n",
       "      <td>0.377436</td>\n",
       "      <td>-1.387024</td>\n",
       "      <td>...</td>\n",
       "      <td>-0.108300</td>\n",
       "      <td>0.005274</td>\n",
       "      <td>-0.190321</td>\n",
       "      <td>-1.175575</td>\n",
       "      <td>0.647376</td>\n",
       "      <td>-0.221929</td>\n",
       "      <td>0.062723</td>\n",
       "      <td>0.061458</td>\n",
       "      <td>123.50</td>\n",
       "      <td>0</td>\n",
       "    </tr>\n",
       "    <tr>\n",
       "      <th>4</th>\n",
       "      <td>2.0</td>\n",
       "      <td>-1.158233</td>\n",
       "      <td>0.877737</td>\n",
       "      <td>1.548718</td>\n",
       "      <td>0.403034</td>\n",
       "      <td>-0.407193</td>\n",
       "      <td>0.095921</td>\n",
       "      <td>0.592941</td>\n",
       "      <td>-0.270533</td>\n",
       "      <td>0.817739</td>\n",
       "      <td>...</td>\n",
       "      <td>-0.009431</td>\n",
       "      <td>0.798278</td>\n",
       "      <td>-0.137458</td>\n",
       "      <td>0.141267</td>\n",
       "      <td>-0.206010</td>\n",
       "      <td>0.502292</td>\n",
       "      <td>0.219422</td>\n",
       "      <td>0.215153</td>\n",
       "      <td>69.99</td>\n",
       "      <td>0</td>\n",
       "    </tr>\n",
       "  </tbody>\n",
       "</table>\n",
       "<p>5 rows × 31 columns</p>\n",
       "</div>"
      ],
      "text/plain": [
       "   Time        V1        V2        V3        V4        V5        V6        V7  \\\n",
       "0   0.0 -1.359807 -0.072781  2.536347  1.378155 -0.338321  0.462388  0.239599   \n",
       "1   0.0  1.191857  0.266151  0.166480  0.448154  0.060018 -0.082361 -0.078803   \n",
       "2   1.0 -1.358354 -1.340163  1.773209  0.379780 -0.503198  1.800499  0.791461   \n",
       "3   1.0 -0.966272 -0.185226  1.792993 -0.863291 -0.010309  1.247203  0.237609   \n",
       "4   2.0 -1.158233  0.877737  1.548718  0.403034 -0.407193  0.095921  0.592941   \n",
       "\n",
       "         V8        V9  ...       V21       V22       V23       V24       V25  \\\n",
       "0  0.098698  0.363787  ... -0.018307  0.277838 -0.110474  0.066928  0.128539   \n",
       "1  0.085102 -0.255425  ... -0.225775 -0.638672  0.101288 -0.339846  0.167170   \n",
       "2  0.247676 -1.514654  ...  0.247998  0.771679  0.909412 -0.689281 -0.327642   \n",
       "3  0.377436 -1.387024  ... -0.108300  0.005274 -0.190321 -1.175575  0.647376   \n",
       "4 -0.270533  0.817739  ... -0.009431  0.798278 -0.137458  0.141267 -0.206010   \n",
       "\n",
       "        V26       V27       V28  Amount  Class  \n",
       "0 -0.189115  0.133558 -0.021053  149.62      0  \n",
       "1  0.125895 -0.008983  0.014724    2.69      0  \n",
       "2 -0.139097 -0.055353 -0.059752  378.66      0  \n",
       "3 -0.221929  0.062723  0.061458  123.50      0  \n",
       "4  0.502292  0.219422  0.215153   69.99      0  \n",
       "\n",
       "[5 rows x 31 columns]"
      ]
     },
     "execution_count": 2,
     "metadata": {},
     "output_type": "execute_result"
    }
   ],
   "source": [
    "data = pd.read_csv('creditcard.csv')\n",
    "df = data.copy() # To keep the data as backup\n",
    "df.head()"
   ]
  },
  {
   "cell_type": "code",
   "execution_count": 3,
   "id": "d6439af7-a898-49d3-b874-1aa5dcc0ef02",
   "metadata": {},
   "outputs": [
    {
     "name": "stdout",
     "output_type": "stream",
     "text": [
      "                Time            V1            V2            V3            V4  \\\n",
      "count  284807.000000  2.848070e+05  2.848070e+05  2.848070e+05  2.848070e+05   \n",
      "mean    94813.859575  1.168375e-15  3.416908e-16 -1.379537e-15  2.074095e-15   \n",
      "std     47488.145955  1.958696e+00  1.651309e+00  1.516255e+00  1.415869e+00   \n",
      "min         0.000000 -5.640751e+01 -7.271573e+01 -4.832559e+01 -5.683171e+00   \n",
      "25%     54201.500000 -9.203734e-01 -5.985499e-01 -8.903648e-01 -8.486401e-01   \n",
      "50%     84692.000000  1.810880e-02  6.548556e-02  1.798463e-01 -1.984653e-02   \n",
      "75%    139320.500000  1.315642e+00  8.037239e-01  1.027196e+00  7.433413e-01   \n",
      "max    172792.000000  2.454930e+00  2.205773e+01  9.382558e+00  1.687534e+01   \n",
      "\n",
      "                 V5            V6            V7            V8            V9  \\\n",
      "count  2.848070e+05  2.848070e+05  2.848070e+05  2.848070e+05  2.848070e+05   \n",
      "mean   9.604066e-16  1.487313e-15 -5.556467e-16  1.213481e-16 -2.406331e-15   \n",
      "std    1.380247e+00  1.332271e+00  1.237094e+00  1.194353e+00  1.098632e+00   \n",
      "min   -1.137433e+02 -2.616051e+01 -4.355724e+01 -7.321672e+01 -1.343407e+01   \n",
      "25%   -6.915971e-01 -7.682956e-01 -5.540759e-01 -2.086297e-01 -6.430976e-01   \n",
      "50%   -5.433583e-02 -2.741871e-01  4.010308e-02  2.235804e-02 -5.142873e-02   \n",
      "75%    6.119264e-01  3.985649e-01  5.704361e-01  3.273459e-01  5.971390e-01   \n",
      "max    3.480167e+01  7.330163e+01  1.205895e+02  2.000721e+01  1.559499e+01   \n",
      "\n",
      "       ...           V21           V22           V23           V24  \\\n",
      "count  ...  2.848070e+05  2.848070e+05  2.848070e+05  2.848070e+05   \n",
      "mean   ...  1.654067e-16 -3.568593e-16  2.578648e-16  4.473266e-15   \n",
      "std    ...  7.345240e-01  7.257016e-01  6.244603e-01  6.056471e-01   \n",
      "min    ... -3.483038e+01 -1.093314e+01 -4.480774e+01 -2.836627e+00   \n",
      "25%    ... -2.283949e-01 -5.423504e-01 -1.618463e-01 -3.545861e-01   \n",
      "50%    ... -2.945017e-02  6.781943e-03 -1.119293e-02  4.097606e-02   \n",
      "75%    ...  1.863772e-01  5.285536e-01  1.476421e-01  4.395266e-01   \n",
      "max    ...  2.720284e+01  1.050309e+01  2.252841e+01  4.584549e+00   \n",
      "\n",
      "                V25           V26           V27           V28         Amount  \\\n",
      "count  2.848070e+05  2.848070e+05  2.848070e+05  2.848070e+05  284807.000000   \n",
      "mean   5.340915e-16  1.683437e-15 -3.660091e-16 -1.227390e-16      88.349619   \n",
      "std    5.212781e-01  4.822270e-01  4.036325e-01  3.300833e-01     250.120109   \n",
      "min   -1.029540e+01 -2.604551e+00 -2.256568e+01 -1.543008e+01       0.000000   \n",
      "25%   -3.171451e-01 -3.269839e-01 -7.083953e-02 -5.295979e-02       5.600000   \n",
      "50%    1.659350e-02 -5.213911e-02  1.342146e-03  1.124383e-02      22.000000   \n",
      "75%    3.507156e-01  2.409522e-01  9.104512e-02  7.827995e-02      77.165000   \n",
      "max    7.519589e+00  3.517346e+00  3.161220e+01  3.384781e+01   25691.160000   \n",
      "\n",
      "               Class  \n",
      "count  284807.000000  \n",
      "mean        0.001727  \n",
      "std         0.041527  \n",
      "min         0.000000  \n",
      "25%         0.000000  \n",
      "50%         0.000000  \n",
      "75%         0.000000  \n",
      "max         1.000000  \n",
      "\n",
      "[8 rows x 31 columns]\n"
     ]
    }
   ],
   "source": [
    "#descriptive statistics\n",
    "print(df.describe())"
   ]
  },
  {
   "cell_type": "code",
   "execution_count": 4,
   "id": "d5c0676c-928a-41a3-86cd-4b263fcb7963",
   "metadata": {},
   "outputs": [
    {
     "data": {
      "text/plain": [
       "Time      float64\n",
       "V1        float64\n",
       "V2        float64\n",
       "V3        float64\n",
       "V4        float64\n",
       "V5        float64\n",
       "V6        float64\n",
       "V7        float64\n",
       "V8        float64\n",
       "V9        float64\n",
       "V10       float64\n",
       "V11       float64\n",
       "V12       float64\n",
       "V13       float64\n",
       "V14       float64\n",
       "V15       float64\n",
       "V16       float64\n",
       "V17       float64\n",
       "V18       float64\n",
       "V19       float64\n",
       "V20       float64\n",
       "V21       float64\n",
       "V22       float64\n",
       "V23       float64\n",
       "V24       float64\n",
       "V25       float64\n",
       "V26       float64\n",
       "V27       float64\n",
       "V28       float64\n",
       "Amount    float64\n",
       "Class       int64\n",
       "dtype: object"
      ]
     },
     "execution_count": 4,
     "metadata": {},
     "output_type": "execute_result"
    }
   ],
   "source": [
    "df.dtypes"
   ]
  },
  {
   "cell_type": "markdown",
   "id": "c6336776-ffdb-4171-ad6b-a6cee8e129eb",
   "metadata": {},
   "source": [
    "<font size = \"5\"> What is the dimensionality of the data? </font>     \n",
    "<font size = \"3\"> We have 284807 transcations and 30 features with 1 being the output class </font>"
   ]
  },
  {
   "cell_type": "code",
   "execution_count": 5,
   "id": "19e08a2d-9b57-4140-b430-467876887e44",
   "metadata": {},
   "outputs": [
    {
     "data": {
      "text/plain": [
       "(284807, 31)"
      ]
     },
     "execution_count": 5,
     "metadata": {},
     "output_type": "execute_result"
    }
   ],
   "source": [
    "df.shape"
   ]
  },
  {
   "cell_type": "markdown",
   "id": "8fc81406-edc6-43e1-9dd3-996e8b47e192",
   "metadata": {},
   "source": [
    "<font size = \"5\"> Are there any missing values? </font>   \n",
    "<font size = \"3\"> No missing value </font>"
   ]
  },
  {
   "cell_type": "code",
   "execution_count": 6,
   "id": "80452a4b-0100-4301-8e4e-da9aa378aaf6",
   "metadata": {},
   "outputs": [
    {
     "data": {
      "text/plain": [
       "Time      0\n",
       "V1        0\n",
       "V2        0\n",
       "V3        0\n",
       "V4        0\n",
       "V5        0\n",
       "V6        0\n",
       "V7        0\n",
       "V8        0\n",
       "V9        0\n",
       "V10       0\n",
       "V11       0\n",
       "V12       0\n",
       "V13       0\n",
       "V14       0\n",
       "V15       0\n",
       "V16       0\n",
       "V17       0\n",
       "V18       0\n",
       "V19       0\n",
       "V20       0\n",
       "V21       0\n",
       "V22       0\n",
       "V23       0\n",
       "V24       0\n",
       "V25       0\n",
       "V26       0\n",
       "V27       0\n",
       "V28       0\n",
       "Amount    0\n",
       "Class     0\n",
       "dtype: int64"
      ]
     },
     "execution_count": 6,
     "metadata": {},
     "output_type": "execute_result"
    }
   ],
   "source": [
    "df.isnull().sum()"
   ]
  },
  {
   "cell_type": "markdown",
   "id": "b9a8045d-59da-4810-8a01-52eba25a88a3",
   "metadata": {},
   "source": [
    "<font size = \"5\"> What is the class distribution? </font>    "
   ]
  },
  {
   "cell_type": "code",
   "execution_count": 7,
   "id": "62597c2e-513b-477d-abb2-ab0f804299ac",
   "metadata": {},
   "outputs": [
    {
     "data": {
      "text/plain": [
       "0    284315\n",
       "1       492\n",
       "Name: Class, dtype: int64"
      ]
     },
     "execution_count": 7,
     "metadata": {},
     "output_type": "execute_result"
    }
   ],
   "source": [
    "classes = df['Class'].value_counts()\n",
    "classes"
   ]
  },
  {
   "cell_type": "code",
   "execution_count": 8,
   "id": "3f8385b3-f8fe-46c3-b900-f65b166435f5",
   "metadata": {},
   "outputs": [
    {
     "data": {
      "text/plain": [
       "99.83"
      ]
     },
     "execution_count": 8,
     "metadata": {},
     "output_type": "execute_result"
    }
   ],
   "source": [
    "normal_share = round((classes[0]/df['Class'].count()*100),2)\n",
    "normal_share"
   ]
  },
  {
   "cell_type": "code",
   "execution_count": 9,
   "id": "6beeac8c-4e77-4609-988a-a3a5f9bf027b",
   "metadata": {},
   "outputs": [
    {
     "data": {
      "text/plain": [
       "0.17"
      ]
     },
     "execution_count": 9,
     "metadata": {},
     "output_type": "execute_result"
    }
   ],
   "source": [
    "fraud_share = round((classes[1]/df['Class'].count()*100),2)\n",
    "fraud_share"
   ]
  },
  {
   "cell_type": "markdown",
   "id": "16684638-9cb5-44bb-a955-e3909aa9d9eb",
   "metadata": {},
   "source": [
    "We can see that there is only 0.17% frauds. We will take care of the class imbalance later."
   ]
  },
  {
   "cell_type": "code",
   "execution_count": 10,
   "id": "8d7f2650-6e23-4e37-8cfe-5e3fae4cfe99",
   "metadata": {},
   "outputs": [
    {
     "data": {
      "image/png": "[encoded data removed]",
      "text/plain": [
       "<Figure size 432x288 with 1 Axes>"
      ]
     },
     "metadata": {},
     "output_type": "display_data"
    }
   ],
   "source": [
    "# Bar plot for the number of fraudulent vs non-fraudulent transcations\n",
    "sns.countplot(x='Class', data=df)\n",
    "plt.title('Number of fraudulent vs non-fraudulent transcations')\n",
    "plt.show()"
   ]
  },
  {
   "cell_type": "code",
   "execution_count": 11,
   "id": "973beb6e-bd39-4dd9-ab06-3077dcb0812d",
   "metadata": {},
   "outputs": [
    {
     "data": {
      "image/png": "[encoded data removed]",
      "text/plain": [
       "<Figure size 432x288 with 1 Axes>"
      ]
     },
     "metadata": {},
     "output_type": "display_data"
    }
   ],
   "source": [
    "# Bar plot for the percentage of fraudulent vs non-fraudulent transcations\n",
    "fraud_percentage = {'Class':['Non-Fraudulent', 'Fraudulent'], 'Percentage':[normal_share, fraud_share]} \n",
    "df_fraud_percentage = pd.DataFrame(fraud_percentage) \n",
    "sns.barplot(x='Class',y='Percentage', data=df_fraud_percentage)\n",
    "plt.title('Percentage of fraudulent vs non-fraudulent transcations')\n",
    "plt.show()"
   ]
  },
  {
   "cell_type": "markdown",
   "id": "c17bc15f-8147-4118-987a-274826da36cc",
   "metadata": {},
   "source": [
    "<font size = \"5\"> Outliers treatment </font>    \n",
    "We are not performing any outliers treatment for this particular dataset. Because all the columns are already PCA transformed, which assumed that the  outlier values are taken care while transforming the data.  "
   ]
  },
  {
   "cell_type": "markdown",
   "id": "fab2cc0f-4948-4568-946d-f6a0145d65e2",
   "metadata": {},
   "source": [
    "<font size = \"5\"> Checking the distribution of amount </font>"
   ]
  },
  {
   "cell_type": "code",
   "execution_count": 12,
   "id": "a350f49d-0b12-4375-8041-7a8136f108d2",
   "metadata": {},
   "outputs": [],
   "source": [
    "# Creating fraudulent dataframe\n",
    "data_fraud = df[df['Class'] == 1]\n",
    "# Creating non fraudulent dataframe\n",
    "data_non_fraud = df[df['Class'] == 0]"
   ]
  },
  {
   "cell_type": "code",
   "execution_count": 13,
   "id": "ee314acd-6a19-4a1e-b2f7-f2c1ba700d8b",
   "metadata": {},
   "outputs": [
    {
     "data": {
      "image/png": "[encoded data removed]",
      "text/plain": [
       "<Figure size 576x360 with 1 Axes>"
      ]
     },
     "metadata": {},
     "output_type": "display_data"
    }
   ],
   "source": [
    "# Distribution plot\n",
    "plt.figure(figsize=(8,5))\n",
    "ax = sns.distplot(data_fraud['Amount'],label='fraudulent',hist=False)\n",
    "ax = sns.distplot(data_non_fraud['Time'],label='non fraudulent',hist=False)\n",
    "ax.set(xlabel='Transction Amount')\n",
    "plt.show()"
   ]
  },
  {
   "cell_type": "markdown",
   "id": "31b7dfb5-0b3d-459f-94c0-3253763c7459",
   "metadata": {},
   "source": [
    "Analysis:   \n",
    "We can see that the fraudulent transctions are mostly densed in the lower range of amount, whereas the non-fraudulent transctions are spreaded   throughout low to high range of amount.    \n",
    "Since its a bit difficult to see. Let's engineer the features of bins"
   ]
  },
  {
   "cell_type": "code",
   "execution_count": 14,
   "id": "3bb02ee0-a375-4eb5-a294-220918ce0a22",
   "metadata": {},
   "outputs": [],
   "source": [
    "df['Amount-Bins'] = ''"
   ]
  },
  {
   "cell_type": "markdown",
   "id": "0a59b945-e809-4b0f-bca1-4c65be4233c8",
   "metadata": {},
   "source": [
    "Now, let's set the bins and their labels."
   ]
  },
  {
   "cell_type": "code",
   "execution_count": 15,
   "id": "207c94d3-a4c4-4a52-8b57-0ceb1dee2ce6",
   "metadata": {},
   "outputs": [],
   "source": [
    "def make_bins(predictor, size=50):\n",
    "    '''\n",
    "    Takes the predictor (a series or a dataframe of single predictor) and size of bins\n",
    "    Returns bins and bin labels\n",
    "    '''\n",
    "    bins = np.linspace(predictor.min(), predictor.max(), num=size)\n",
    "\n",
    "    bin_labels = []\n",
    "\n",
    "    # Index of the final element in bins list\n",
    "    bins_last_index = bins.shape[0] - 1\n",
    "\n",
    "    for id, val in enumerate(bins):\n",
    "        if id == bins_last_index:\n",
    "            continue\n",
    "        val_to_put = str(int(bins[id])) + ' to ' + str(int(bins[id + 1]))\n",
    "        bin_labels.append(val_to_put)\n",
    "    \n",
    "    return bins, bin_labels"
   ]
  },
  {
   "cell_type": "code",
   "execution_count": 16,
   "id": "293647e4-f68e-44c4-8e11-36148d81be80",
   "metadata": {},
   "outputs": [],
   "source": [
    "bins, bin_labels = make_bins(df.Amount, size=10)"
   ]
  },
  {
   "cell_type": "code",
   "execution_count": null,
   "id": "1d9516ea-b5d2-4dae-af7e-80b066277b5d",
   "metadata": {},
   "outputs": [],
   "source": []
  },
  {
   "cell_type": "markdown",
   "id": "a11cd777-2542-4472-8a32-0290fbe4b505",
   "metadata": {},
   "source": [
    "Now, adding bins in the column Amount-Bins."
   ]
  },
  {
   "cell_type": "code",
   "execution_count": 17,
   "id": "42c0e8fc-d900-4763-bba9-885128c78811",
   "metadata": {},
   "outputs": [
    {
     "data": {
      "text/html": [
       "<div>\n",
       "<style scoped>\n",
       "    .dataframe tbody tr th:only-of-type {\n",
       "        vertical-align: middle;\n",
       "    }\n",
       "\n",
       "    .dataframe tbody tr th {\n",
       "        vertical-align: top;\n",
       "    }\n",
       "\n",
       "    .dataframe thead th {\n",
       "        text-align: right;\n",
       "    }\n",
       "</style>\n",
       "<table border=\"1\" class=\"dataframe\">\n",
       "  <thead>\n",
       "    <tr style=\"text-align: right;\">\n",
       "      <th></th>\n",
       "      <th>Amount-Bins</th>\n",
       "    </tr>\n",
       "  </thead>\n",
       "  <tbody>\n",
       "    <tr>\n",
       "      <th>0</th>\n",
       "      <td>0 to 2854</td>\n",
       "    </tr>\n",
       "    <tr>\n",
       "      <th>1</th>\n",
       "      <td>0 to 2854</td>\n",
       "    </tr>\n",
       "    <tr>\n",
       "      <th>2</th>\n",
       "      <td>0 to 2854</td>\n",
       "    </tr>\n",
       "    <tr>\n",
       "      <th>3</th>\n",
       "      <td>0 to 2854</td>\n",
       "    </tr>\n",
       "    <tr>\n",
       "      <th>4</th>\n",
       "      <td>0 to 2854</td>\n",
       "    </tr>\n",
       "  </tbody>\n",
       "</table>\n",
       "</div>"
      ],
      "text/plain": [
       "  Amount-Bins\n",
       "0   0 to 2854\n",
       "1   0 to 2854\n",
       "2   0 to 2854\n",
       "3   0 to 2854\n",
       "4   0 to 2854"
      ]
     },
     "execution_count": 17,
     "metadata": {},
     "output_type": "execute_result"
    }
   ],
   "source": [
    "df['Amount-Bins'] = pd.cut(df.Amount, bins=bins,\n",
    "                           labels=bin_labels, include_lowest=True)\n",
    "df['Amount-Bins'].head().to_frame()"
   ]
  },
  {
   "cell_type": "markdown",
   "id": "2d1e649e-0f8a-439a-8cfc-b582a2446d6d",
   "metadata": {},
   "source": [
    "Let's plot the bins."
   ]
  },
  {
   "cell_type": "code",
   "execution_count": 18,
   "id": "3153a7b0-c1bd-4194-b807-8924e78d1f0f",
   "metadata": {},
   "outputs": [
    {
     "data": {
      "text/plain": [
       "0 to 2854         284484\n",
       "2854 to 5709         285\n",
       "5709 to 8563          28\n",
       "8563 to 11418          4\n",
       "11418 to 14272         3\n",
       "17127 to 19982         2\n",
       "22836 to 25691         1\n",
       "14272 to 17127         0\n",
       "19982 to 22836         0\n",
       "Name: Amount-Bins, dtype: int64"
      ]
     },
     "execution_count": 18,
     "metadata": {},
     "output_type": "execute_result"
    }
   ],
   "source": [
    "df['Amount-Bins'].value_counts()"
   ]
  },
  {
   "cell_type": "code",
   "execution_count": 19,
   "id": "6d2a2a6f-0c97-47a9-a9bb-a1fa6f4a2759",
   "metadata": {},
   "outputs": [
    {
     "data": {
      "text/plain": [
       "(array([0, 1, 2, 3, 4, 5, 6, 7, 8]),\n",
       " [Text(0, 0, '0 to 2854'),\n",
       "  Text(1, 0, '2854 to 5709'),\n",
       "  Text(2, 0, '5709 to 8563'),\n",
       "  Text(3, 0, '8563 to 11418'),\n",
       "  Text(4, 0, '11418 to 14272'),\n",
       "  Text(5, 0, '14272 to 17127'),\n",
       "  Text(6, 0, '17127 to 19982'),\n",
       "  Text(7, 0, '19982 to 22836'),\n",
       "  Text(8, 0, '22836 to 25691')])"
      ]
     },
     "execution_count": 19,
     "metadata": {},
     "output_type": "execute_result"
    },
    {
     "data": {
      "image/png": "[encoded data removed]",
      "text/plain": [
       "<Figure size 1080x720 with 1 Axes>"
      ]
     },
     "metadata": {},
     "output_type": "display_data"
    }
   ],
   "source": [
    "plt.figure(figsize=(15, 10))\n",
    "sns.countplot(x='Amount-Bins', data=df)\n",
    "plt.xticks(rotation=45)"
   ]
  },
  {
   "cell_type": "markdown",
   "id": "b69d6eac-55ac-4bcd-a419-0cc21f526d5a",
   "metadata": {},
   "source": [
    "Since, count of values of Bins other than '0 to 2854' are difficult to view. Let's not insert the first one."
   ]
  },
  {
   "cell_type": "code",
   "execution_count": 20,
   "id": "750ec3eb-98df-4cc0-bbab-dd5db6144eed",
   "metadata": {},
   "outputs": [
    {
     "data": {
      "text/plain": [
       "(array([0, 1, 2, 3, 4, 5, 6, 7, 8]),\n",
       " [Text(0, 0, '0 to 2854'),\n",
       "  Text(1, 0, '2854 to 5709'),\n",
       "  Text(2, 0, '5709 to 8563'),\n",
       "  Text(3, 0, '8563 to 11418'),\n",
       "  Text(4, 0, '11418 to 14272'),\n",
       "  Text(5, 0, '14272 to 17127'),\n",
       "  Text(6, 0, '17127 to 19982'),\n",
       "  Text(7, 0, '19982 to 22836'),\n",
       "  Text(8, 0, '22836 to 25691')])"
      ]
     },
     "execution_count": 20,
     "metadata": {},
     "output_type": "execute_result"
    },
    {
     "data": {
      "image/png": "[encoded data removed]",
      "text/plain": [
       "<Figure size 1080x720 with 1 Axes>"
      ]
     },
     "metadata": {},
     "output_type": "display_data"
    }
   ],
   "source": [
    "plt.figure(figsize=(15, 10))\n",
    "sns.countplot(x='Amount-Bins', data=df[~(df['Amount-Bins'] == '0 to 2854')])\n",
    "plt.xticks(rotation=45)"
   ]
  },
  {
   "cell_type": "code",
   "execution_count": null,
   "id": "d6167937-f4d5-4cd7-ba14-1eb50aeae01c",
   "metadata": {},
   "outputs": [],
   "source": []
  },
  {
   "cell_type": "markdown",
   "id": "c317785b-a6a8-46bd-9f5e-070e731d6af4",
   "metadata": {},
   "source": [
    "We can see that mostly the amount is between 0 and 2854 euros.   \n",
    "  \n",
    "<font size = \"5\" > Predictive Modelling </font>  \n",
    "Let's predict whether a credit card is fraud or not using machine learning.  \n",
    "\n",
    "<font size = \"5\" > One-hot encoding the Amount-Bins </font>  \n",
    "Since, for classification, we need to pass the data in numerical form. That's why we need to One-Hot encode the Amount-Bins column."
   ]
  },
  {
   "cell_type": "code",
   "execution_count": 21,
   "id": "62f1f578-b4c0-422d-87e2-b8aa45479641",
   "metadata": {},
   "outputs": [],
   "source": [
    "df_encoded = pd.get_dummies(data=df, columns=['Amount-Bins'])\n",
    "df = df_encoded.copy()"
   ]
  },
  {
   "cell_type": "code",
   "execution_count": 22,
   "id": "0de983e5-1bdd-4bb0-ae51-a2747c1e72b9",
   "metadata": {},
   "outputs": [
    {
     "data": {
      "text/html": [
       "<div>\n",
       "<style scoped>\n",
       "    .dataframe tbody tr th:only-of-type {\n",
       "        vertical-align: middle;\n",
       "    }\n",
       "\n",
       "    .dataframe tbody tr th {\n",
       "        vertical-align: top;\n",
       "    }\n",
       "\n",
       "    .dataframe thead th {\n",
       "        text-align: right;\n",
       "    }\n",
       "</style>\n",
       "<table border=\"1\" class=\"dataframe\">\n",
       "  <thead>\n",
       "    <tr style=\"text-align: right;\">\n",
       "      <th></th>\n",
       "      <th>Time</th>\n",
       "      <th>V1</th>\n",
       "      <th>V2</th>\n",
       "      <th>V3</th>\n",
       "      <th>V4</th>\n",
       "      <th>V5</th>\n",
       "      <th>V6</th>\n",
       "      <th>V7</th>\n",
       "      <th>V8</th>\n",
       "      <th>V9</th>\n",
       "      <th>...</th>\n",
       "      <th>Class</th>\n",
       "      <th>Amount-Bins_0 to 2854</th>\n",
       "      <th>Amount-Bins_2854 to 5709</th>\n",
       "      <th>Amount-Bins_5709 to 8563</th>\n",
       "      <th>Amount-Bins_8563 to 11418</th>\n",
       "      <th>Amount-Bins_11418 to 14272</th>\n",
       "      <th>Amount-Bins_14272 to 17127</th>\n",
       "      <th>Amount-Bins_17127 to 19982</th>\n",
       "      <th>Amount-Bins_19982 to 22836</th>\n",
       "      <th>Amount-Bins_22836 to 25691</th>\n",
       "    </tr>\n",
       "  </thead>\n",
       "  <tbody>\n",
       "    <tr>\n",
       "      <th>0</th>\n",
       "      <td>0.0</td>\n",
       "      <td>-1.359807</td>\n",
       "      <td>-0.072781</td>\n",
       "      <td>2.536347</td>\n",
       "      <td>1.378155</td>\n",
       "      <td>-0.338321</td>\n",
       "      <td>0.462388</td>\n",
       "      <td>0.239599</td>\n",
       "      <td>0.098698</td>\n",
       "      <td>0.363787</td>\n",
       "      <td>...</td>\n",
       "      <td>0</td>\n",
       "      <td>1</td>\n",
       "      <td>0</td>\n",
       "      <td>0</td>\n",
       "      <td>0</td>\n",
       "      <td>0</td>\n",
       "      <td>0</td>\n",
       "      <td>0</td>\n",
       "      <td>0</td>\n",
       "      <td>0</td>\n",
       "    </tr>\n",
       "    <tr>\n",
       "      <th>1</th>\n",
       "      <td>0.0</td>\n",
       "      <td>1.191857</td>\n",
       "      <td>0.266151</td>\n",
       "      <td>0.166480</td>\n",
       "      <td>0.448154</td>\n",
       "      <td>0.060018</td>\n",
       "      <td>-0.082361</td>\n",
       "      <td>-0.078803</td>\n",
       "      <td>0.085102</td>\n",
       "      <td>-0.255425</td>\n",
       "      <td>...</td>\n",
       "      <td>0</td>\n",
       "      <td>1</td>\n",
       "      <td>0</td>\n",
       "      <td>0</td>\n",
       "      <td>0</td>\n",
       "      <td>0</td>\n",
       "      <td>0</td>\n",
       "      <td>0</td>\n",
       "      <td>0</td>\n",
       "      <td>0</td>\n",
       "    </tr>\n",
       "    <tr>\n",
       "      <th>2</th>\n",
       "      <td>1.0</td>\n",
       "      <td>-1.358354</td>\n",
       "      <td>-1.340163</td>\n",
       "      <td>1.773209</td>\n",
       "      <td>0.379780</td>\n",
       "      <td>-0.503198</td>\n",
       "      <td>1.800499</td>\n",
       "      <td>0.791461</td>\n",
       "      <td>0.247676</td>\n",
       "      <td>-1.514654</td>\n",
       "      <td>...</td>\n",
       "      <td>0</td>\n",
       "      <td>1</td>\n",
       "      <td>0</td>\n",
       "      <td>0</td>\n",
       "      <td>0</td>\n",
       "      <td>0</td>\n",
       "      <td>0</td>\n",
       "      <td>0</td>\n",
       "      <td>0</td>\n",
       "      <td>0</td>\n",
       "    </tr>\n",
       "    <tr>\n",
       "      <th>3</th>\n",
       "      <td>1.0</td>\n",
       "      <td>-0.966272</td>\n",
       "      <td>-0.185226</td>\n",
       "      <td>1.792993</td>\n",
       "      <td>-0.863291</td>\n",
       "      <td>-0.010309</td>\n",
       "      <td>1.247203</td>\n",
       "      <td>0.237609</td>\n",
       "      <td>0.377436</td>\n",
       "      <td>-1.387024</td>\n",
       "      <td>...</td>\n",
       "      <td>0</td>\n",
       "      <td>1</td>\n",
       "      <td>0</td>\n",
       "      <td>0</td>\n",
       "      <td>0</td>\n",
       "      <td>0</td>\n",
       "      <td>0</td>\n",
       "      <td>0</td>\n",
       "      <td>0</td>\n",
       "      <td>0</td>\n",
       "    </tr>\n",
       "    <tr>\n",
       "      <th>4</th>\n",
       "      <td>2.0</td>\n",
       "      <td>-1.158233</td>\n",
       "      <td>0.877737</td>\n",
       "      <td>1.548718</td>\n",
       "      <td>0.403034</td>\n",
       "      <td>-0.407193</td>\n",
       "      <td>0.095921</td>\n",
       "      <td>0.592941</td>\n",
       "      <td>-0.270533</td>\n",
       "      <td>0.817739</td>\n",
       "      <td>...</td>\n",
       "      <td>0</td>\n",
       "      <td>1</td>\n",
       "      <td>0</td>\n",
       "      <td>0</td>\n",
       "      <td>0</td>\n",
       "      <td>0</td>\n",
       "      <td>0</td>\n",
       "      <td>0</td>\n",
       "      <td>0</td>\n",
       "      <td>0</td>\n",
       "    </tr>\n",
       "  </tbody>\n",
       "</table>\n",
       "<p>5 rows × 40 columns</p>\n",
       "</div>"
      ],
      "text/plain": [
       "   Time        V1        V2        V3        V4        V5        V6        V7  \\\n",
       "0   0.0 -1.359807 -0.072781  2.536347  1.378155 -0.338321  0.462388  0.239599   \n",
       "1   0.0  1.191857  0.266151  0.166480  0.448154  0.060018 -0.082361 -0.078803   \n",
       "2   1.0 -1.358354 -1.340163  1.773209  0.379780 -0.503198  1.800499  0.791461   \n",
       "3   1.0 -0.966272 -0.185226  1.792993 -0.863291 -0.010309  1.247203  0.237609   \n",
       "4   2.0 -1.158233  0.877737  1.548718  0.403034 -0.407193  0.095921  0.592941   \n",
       "\n",
       "         V8        V9  ...  Class  Amount-Bins_0 to 2854  \\\n",
       "0  0.098698  0.363787  ...      0                      1   \n",
       "1  0.085102 -0.255425  ...      0                      1   \n",
       "2  0.247676 -1.514654  ...      0                      1   \n",
       "3  0.377436 -1.387024  ...      0                      1   \n",
       "4 -0.270533  0.817739  ...      0                      1   \n",
       "\n",
       "   Amount-Bins_2854 to 5709  Amount-Bins_5709 to 8563  \\\n",
       "0                         0                         0   \n",
       "1                         0                         0   \n",
       "2                         0                         0   \n",
       "3                         0                         0   \n",
       "4                         0                         0   \n",
       "\n",
       "   Amount-Bins_8563 to 11418  Amount-Bins_11418 to 14272  \\\n",
       "0                          0                           0   \n",
       "1                          0                           0   \n",
       "2                          0                           0   \n",
       "3                          0                           0   \n",
       "4                          0                           0   \n",
       "\n",
       "   Amount-Bins_14272 to 17127  Amount-Bins_17127 to 19982  \\\n",
       "0                           0                           0   \n",
       "1                           0                           0   \n",
       "2                           0                           0   \n",
       "3                           0                           0   \n",
       "4                           0                           0   \n",
       "\n",
       "   Amount-Bins_19982 to 22836  Amount-Bins_22836 to 25691  \n",
       "0                           0                           0  \n",
       "1                           0                           0  \n",
       "2                           0                           0  \n",
       "3                           0                           0  \n",
       "4                           0                           0  \n",
       "\n",
       "[5 rows x 40 columns]"
      ]
     },
     "execution_count": 22,
     "metadata": {},
     "output_type": "execute_result"
    }
   ],
   "source": [
    "df.head()"
   ]
  },
  {
   "cell_type": "markdown",
   "id": "2b713e6b-498b-44f0-96f8-ec25d24d8753",
   "metadata": {},
   "source": [
    "<font size = \"5\"> Breaking the dataset into training and testing </font>  \n",
    "First, separating the response variable from the explanatory variables."
   ]
  },
  {
   "cell_type": "code",
   "execution_count": 23,
   "id": "aa2aca3c-59f6-4f92-96c3-765b4baadaf6",
   "metadata": {},
   "outputs": [
    {
     "data": {
      "text/plain": [
       "((284807, 39), (284807,))"
      ]
     },
     "execution_count": 23,
     "metadata": {},
     "output_type": "execute_result"
    }
   ],
   "source": [
    "X = df.drop(labels='Class', axis=1)\n",
    "Y = df['Class']\n",
    "\n",
    "X.shape, Y.shape"
   ]
  },
  {
   "cell_type": "code",
   "execution_count": 24,
   "id": "a5a26532-5365-4d28-892a-e1e78b0e3f11",
   "metadata": {},
   "outputs": [],
   "source": [
    "from sklearn.model_selection import train_test_split"
   ]
  },
  {
   "cell_type": "code",
   "execution_count": 25,
   "id": "3e4acece-b633-4128-9042-e7fd32960ca2",
   "metadata": {},
   "outputs": [
    {
     "name": "stdout",
     "output_type": "stream",
     "text": [
      "(199364, 39) (199364,)\n",
      "(85443, 39) (85443,)\n"
     ]
    }
   ],
   "source": [
    "xtrain, xtest, ytrain, ytest = train_test_split(\n",
    "    X, Y, random_state=42, test_size=0.3, shuffle=True)\n",
    "\n",
    "print(xtrain.shape, ytrain.shape)\n",
    "print(xtest.shape, ytest.shape)"
   ]
  },
  {
   "cell_type": "markdown",
   "id": "3b4895de-38be-430f-8135-80c8ade52ef9",
   "metadata": {},
   "source": [
    "<font size = \"5\"> Applying Machine Learning Algorithms </font>  \n",
    "Let's apply different Machine Learning Algorithms then compare their metrics to select the most suitable ML algorithm. Algorithms to be   used are:  \n",
    "  \n",
    "Logistic Regression   \n",
    "Support Vector Machine   \n",
    "Naive Bayes   \n",
    "K-Nearest Neighbors\n",
    "\n",
    "The metrics we'll use are:    \n",
    "    \n",
    "Accuracy   \n",
    "Precision   \n",
    "Error rate    \n",
    "Sensitivity   \n",
    "Specificity    \n",
    "F1-Score      \n",
    "Recall  "
   ]
  },
  {
   "cell_type": "markdown",
   "id": "e89ef879-d0a6-4d96-82e3-e16c27c98877",
   "metadata": {},
   "source": [
    "<font size = \"5\"> LOGISTIC REGRESSION </font>"
   ]
  },
  {
   "cell_type": "code",
   "execution_count": 26,
   "id": "7b3d6b48-9691-4800-8947-217679c5c7c3",
   "metadata": {},
   "outputs": [],
   "source": [
    "from sklearn.linear_model import LogisticRegression\n",
    "lr_model = LogisticRegression()"
   ]
  },
  {
   "cell_type": "code",
   "execution_count": 27,
   "id": "cdb61b71-6da7-4ba5-9050-7006f6020036",
   "metadata": {},
   "outputs": [
    {
     "data": {
      "text/plain": [
       "LogisticRegression()"
      ]
     },
     "execution_count": 27,
     "metadata": {},
     "output_type": "execute_result"
    }
   ],
   "source": [
    "# Training the algorithm\n",
    "lr_model.fit(xtrain, ytrain)"
   ]
  },
  {
   "cell_type": "code",
   "execution_count": 28,
   "id": "46600b7c-dca7-4cfb-bcb5-df82634b0681",
   "metadata": {},
   "outputs": [],
   "source": [
    "# Predictions on training and testing data\n",
    "lr_pred_train = lr_model.predict(xtrain)\n",
    "lr_pred_test = lr_model.predict(xtest)"
   ]
  },
  {
   "cell_type": "markdown",
   "id": "f4ec3008-ab44-47d6-9f5c-8f22005b89e2",
   "metadata": {},
   "source": [
    "Before going further into metrics, let's first decide either Type-I or Type-II error is more important to consider.\n",
    "\n",
    "Type-I  Error or False Positives: False Positives are the ones which are actually not fraud but the prediction said that they are fraud.\n",
    "Type-II Error or False Negatives: False Negatives are the ones which are actually fraud but the system said that they aren't.\n",
    "\n",
    "Well, we can say that Type-II Error is more significant because we don't want system to have a fraudulent credit card because that can be more dangerous.\n",
    "\n",
    "So, for Type-II Error, We can say that recall is the important metric."
   ]
  },
  {
   "cell_type": "code",
   "execution_count": 29,
   "id": "ae8e6932-0174-454b-82c5-0efb4a603dd3",
   "metadata": {},
   "outputs": [],
   "source": [
    "# Importing the required metrics\n",
    "from sklearn.metrics import accuracy_score, precision_score, recall_score, confusion_matrix"
   ]
  },
  {
   "cell_type": "markdown",
   "id": "60e0aefb-b035-47c6-806c-024a8053784d",
   "metadata": {},
   "source": [
    "Let's first look at the confusion matrix."
   ]
  },
  {
   "cell_type": "code",
   "execution_count": 30,
   "id": "cc64f221-7702-450f-b04b-4e51fa0c2b97",
   "metadata": {},
   "outputs": [
    {
     "data": {
      "text/html": [
       "<div>\n",
       "<style scoped>\n",
       "    .dataframe tbody tr th:only-of-type {\n",
       "        vertical-align: middle;\n",
       "    }\n",
       "\n",
       "    .dataframe tbody tr th {\n",
       "        vertical-align: top;\n",
       "    }\n",
       "\n",
       "    .dataframe thead th {\n",
       "        text-align: right;\n",
       "    }\n",
       "</style>\n",
       "<table border=\"1\" class=\"dataframe\">\n",
       "  <thead>\n",
       "    <tr style=\"text-align: right;\">\n",
       "      <th></th>\n",
       "      <th>Predicted Fraud</th>\n",
       "      <th>Predicted Not Fraud</th>\n",
       "    </tr>\n",
       "  </thead>\n",
       "  <tbody>\n",
       "    <tr>\n",
       "      <th>Fraud</th>\n",
       "      <td>86</td>\n",
       "      <td>50</td>\n",
       "    </tr>\n",
       "    <tr>\n",
       "      <th>Not Fraud</th>\n",
       "      <td>35</td>\n",
       "      <td>85272</td>\n",
       "    </tr>\n",
       "  </tbody>\n",
       "</table>\n",
       "</div>"
      ],
      "text/plain": [
       "           Predicted Fraud  Predicted Not Fraud\n",
       "Fraud                   86                   50\n",
       "Not Fraud               35                85272"
      ]
     },
     "execution_count": 30,
     "metadata": {},
     "output_type": "execute_result"
    }
   ],
   "source": [
    "tn, fp, fn, tp = confusion_matrix(ytest, lr_pred_test).ravel()\n",
    "conf_matrix = pd.DataFrame(\n",
    "    {\n",
    "        'Predicted Fraud': [tp, fp],\n",
    "        'Predicted Not Fraud': [fn, tn]\n",
    "    }, index=['Fraud', 'Not Fraud'])\n",
    "conf_matrix"
   ]
  },
  {
   "cell_type": "markdown",
   "id": "d352f92d-4007-42bf-b3bb-e00096d5bbe7",
   "metadata": {},
   "source": [
    "Let's draw a heatmap for the above confusion matrix."
   ]
  },
  {
   "cell_type": "code",
   "execution_count": 31,
   "id": "da50c498-0a90-408a-a668-3a81eaefdeb7",
   "metadata": {},
   "outputs": [
    {
     "data": {
      "text/plain": [
       "<AxesSubplot:>"
      ]
     },
     "execution_count": 31,
     "metadata": {},
     "output_type": "execute_result"
    },
    {
     "data": {
      "image/png": "[encoded data removed]",
      "text/plain": [
       "<Figure size 432x288 with 2 Axes>"
      ]
     },
     "metadata": {},
     "output_type": "display_data"
    }
   ],
   "source": [
    "sns.heatmap(conf_matrix, annot=True)"
   ]
  },
  {
   "cell_type": "markdown",
   "id": "6e19384e-2ecb-4438-8749-87bdd64dcff6",
   "metadata": {},
   "source": [
    "Heatmap also suggests that the data is highly imbalanced.\n",
    "\n",
    "Let's look at the accuracy score."
   ]
  },
  {
   "cell_type": "code",
   "execution_count": 32,
   "id": "14d82aa4-5da9-4828-b38c-5b05839b97c3",
   "metadata": {},
   "outputs": [
    {
     "data": {
      "text/plain": [
       "0.9990051847430451"
      ]
     },
     "execution_count": 32,
     "metadata": {},
     "output_type": "execute_result"
    }
   ],
   "source": [
    "lr_accuracy = accuracy_score(ytest, lr_pred_test)\n",
    "lr_accuracy"
   ]
  },
  {
   "cell_type": "markdown",
   "id": "c5dbb734-f532-463c-9f13-94039af20b0c",
   "metadata": {},
   "source": [
    "We can see here that accuracy is great. Around 99%.\n",
    "\n",
    "But we know that the dataset is highly unbalanced and accuracy takes into account the whole confusion matrix. So we can say that this measure is not suitable.\n",
    "\n",
    "Let's look at precision and recall."
   ]
  },
  {
   "cell_type": "code",
   "execution_count": 33,
   "id": "11188971-df06-482f-a523-3ffea03ea0f2",
   "metadata": {},
   "outputs": [
    {
     "data": {
      "text/plain": [
       "0.7107438016528925"
      ]
     },
     "execution_count": 33,
     "metadata": {},
     "output_type": "execute_result"
    }
   ],
   "source": [
    "lr_precision = precision_score(ytest, lr_pred_test)\n",
    "lr_precision"
   ]
  },
  {
   "cell_type": "markdown",
   "id": "8092c410-454b-4669-9bb6-8d0b6117ee67",
   "metadata": {},
   "source": [
    "Recall"
   ]
  },
  {
   "cell_type": "code",
   "execution_count": 34,
   "id": "6dbe3b34-e803-428e-aa62-26e47d1f4054",
   "metadata": {},
   "outputs": [
    {
     "data": {
      "text/plain": [
       "0.6323529411764706"
      ]
     },
     "execution_count": 34,
     "metadata": {},
     "output_type": "execute_result"
    }
   ],
   "source": [
    "lr_recall = recall_score(ytest, lr_pred_test)\n",
    "lr_recall"
   ]
  },
  {
   "cell_type": "markdown",
   "id": "60536d50-3a20-48fb-8757-b4b1338bbe14",
   "metadata": {},
   "source": [
    "Recall is very low in case of logistic regression. However, we may try to increase it by increasing the complexity of the model.\n",
    "\n",
    "Although, let's check the recall for training dataset to get the idea of any overfitting we may be having."
   ]
  },
  {
   "cell_type": "code",
   "execution_count": 35,
   "id": "7224f419-ac2c-4f03-9fb0-d7bbd9de42e9",
   "metadata": {},
   "outputs": [
    {
     "data": {
      "text/plain": [
       "0.6769662921348315"
      ]
     },
     "execution_count": 35,
     "metadata": {},
     "output_type": "execute_result"
    }
   ],
   "source": [
    "lr_recall_train = recall_score(ytrain, lr_pred_train)\n",
    "lr_recall_train"
   ]
  },
  {
   "cell_type": "markdown",
   "id": "d6d8be9e-6343-467c-87a9-33b8c2f2ecca",
   "metadata": {},
   "source": [
    "Well, we can see that the delta is small, only around 0.03. So, we can say that the model is not overfitting.\n",
    "\n",
    "Let's look at the F1-Score. F1-Score may tell us that one of the precision or recall is very low."
   ]
  },
  {
   "cell_type": "code",
   "execution_count": 36,
   "id": "d3d4a5d5-e492-46f6-bfd4-4c50b8c833a3",
   "metadata": {},
   "outputs": [],
   "source": [
    "from sklearn.metrics import f1_score"
   ]
  },
  {
   "cell_type": "code",
   "execution_count": 37,
   "id": "d4efde4e-983e-44b1-bd3f-4c589094d926",
   "metadata": {},
   "outputs": [
    {
     "data": {
      "text/plain": [
       "0.6692607003891051"
      ]
     },
     "execution_count": 37,
     "metadata": {},
     "output_type": "execute_result"
    }
   ],
   "source": [
    "lr_f1 = f1_score(ytest, lr_pred_test)\n",
    "lr_f1"
   ]
  },
  {
   "cell_type": "markdown",
   "id": "586898d4-1d9a-4a85-b0c1-0d972fb84243",
   "metadata": {},
   "source": [
    "Let's look at the classification report."
   ]
  },
  {
   "cell_type": "code",
   "execution_count": 38,
   "id": "b71d9fee-4ca2-47dd-a84a-93f7fcd5777b",
   "metadata": {},
   "outputs": [],
   "source": [
    "from sklearn.metrics import classification_report"
   ]
  },
  {
   "cell_type": "code",
   "execution_count": 39,
   "id": "9328912e-fab6-4532-b99f-eb9327860191",
   "metadata": {},
   "outputs": [
    {
     "name": "stdout",
     "output_type": "stream",
     "text": [
      "              precision    recall  f1-score   support\n",
      "\n",
      "           0       1.00      1.00      1.00     85307\n",
      "           1       0.71      0.63      0.67       136\n",
      "\n",
      "    accuracy                           1.00     85443\n",
      "   macro avg       0.86      0.82      0.83     85443\n",
      "weighted avg       1.00      1.00      1.00     85443\n",
      "\n"
     ]
    }
   ],
   "source": [
    "print(classification_report(ytest, lr_pred_test))"
   ]
  },
  {
   "cell_type": "markdown",
   "id": "51d299a8-895e-4563-9818-1efc14054e47",
   "metadata": {},
   "source": [
    "Let's look at the ROC curve.   \n",
    "  \n",
    "Now, for the ROC Curve, we need the probabilites of Fraud happening (which is the probability of occurance of 1)"
   ]
  },
  {
   "cell_type": "code",
   "execution_count": 40,
   "id": "662522e2-d020-47c3-90af-91ee5138ef49",
   "metadata": {},
   "outputs": [],
   "source": [
    "lr_pred_test_prob = lr_model.predict_proba(xtest)[:, 1]"
   ]
  },
  {
   "cell_type": "markdown",
   "id": "1dfa6d85-e0e4-4d30-a3e3-04cf9cec5adb",
   "metadata": {},
   "source": [
    "Now, to draw the ROC Curve, we need to have True Positive Rate and False Positive Rate."
   ]
  },
  {
   "cell_type": "code",
   "execution_count": 41,
   "id": "206c5af3-dcbf-4ea2-8973-1f26552b60b5",
   "metadata": {},
   "outputs": [],
   "source": [
    "from sklearn.metrics import roc_curve, roc_auc_score"
   ]
  },
  {
   "cell_type": "code",
   "execution_count": 42,
   "id": "19f2a8c1-86b0-4c47-8618-ff9229636928",
   "metadata": {},
   "outputs": [],
   "source": [
    "fpr, tpr, threshold = roc_curve(ytest, lr_pred_test_prob)"
   ]
  },
  {
   "cell_type": "markdown",
   "id": "f23240af-657e-4401-8951-18031aaa6147",
   "metadata": {},
   "source": [
    "Also, let's get the auc score."
   ]
  },
  {
   "cell_type": "code",
   "execution_count": 43,
   "id": "c6768582-cf9b-4b6c-bdf6-7fbae2b2b60b",
   "metadata": {},
   "outputs": [
    {
     "data": {
      "text/plain": [
       "0.9341739075270701"
      ]
     },
     "execution_count": 43,
     "metadata": {},
     "output_type": "execute_result"
    }
   ],
   "source": [
    "lr_auc = roc_auc_score(ytest, lr_pred_test_prob)\n",
    "lr_auc"
   ]
  },
  {
   "cell_type": "markdown",
   "id": "af2ba4f9-8060-4282-8dce-5aba28f53e96",
   "metadata": {},
   "source": [
    "Now, let's define a function to plot the roc curve."
   ]
  },
  {
   "cell_type": "code",
   "execution_count": 44,
   "id": "07351ec8-c601-42d7-81a4-bbb0ae5360c1",
   "metadata": {},
   "outputs": [],
   "source": [
    "def plot_roc_curve(fpr, tpr, label=None):\n",
    "    plt.figure(figsize=(8, 6))\n",
    "    plt.title('ROC Curve', fontsize=15)\n",
    "    plt.plot([0, 1], [0, 1], 'k--')\n",
    "    plt.plot(fpr, tpr, linewidth=2, label=label)\n",
    "    plt.xticks(np.arange(0, 1, 0.05), rotation=90)\n",
    "    plt.xlabel('False Positive Rates', fontsize=15)\n",
    "    plt.ylabel('True Positive Rates', fontsize=15)\n",
    "    plt.legend(loc='best')\n",
    "    \n",
    "    plt.show()"
   ]
  },
  {
   "cell_type": "code",
   "execution_count": 45,
   "id": "9122a63b-d90d-472b-b672-d2a5b738882f",
   "metadata": {},
   "outputs": [
    {
     "data": {
      "image/png": "[encoded data removed]",
      "text/plain": [
       "<Figure size 576x432 with 1 Axes>"
      ]
     },
     "metadata": {},
     "output_type": "display_data"
    }
   ],
   "source": [
    "#Plotting ROC Curve.\n",
    "plot_roc_curve(fpr=fpr, tpr=tpr, label=\"AUC = %.3f\" % lr_auc)"
   ]
  },
  {
   "cell_type": "markdown",
   "id": "e38ac79a-3600-4f96-a8a1-7827908ffd8a",
   "metadata": {},
   "source": [
    "AUC is quite good. i.e. 0.936. Based on the data being highly imbalanced, we'll only check the AUC metric in later algorithms.\n",
    "\n",
    "<font size = \"5\"> Model Complexity </font>    \n",
    "Let's try to train the Logistic Regression models on the 2nd degree of polynomials. Not going further 2nd degree because features are already too   much. Otherwise, computer gives the MemoryError.  "
   ]
  },
  {
   "cell_type": "code",
   "execution_count": 46,
   "id": "df389a83-9bd3-4f67-80c5-e24d79d7efd6",
   "metadata": {},
   "outputs": [],
   "source": [
    "from sklearn.preprocessing import PolynomialFeatures"
   ]
  },
  {
   "cell_type": "code",
   "execution_count": 47,
   "id": "71ac860c-5662-491e-8c59-8aec710b5db2",
   "metadata": {},
   "outputs": [
    {
     "data": {
      "text/plain": [
       "(0.9122902616641463, 0.9238498202685249)"
      ]
     },
     "execution_count": 47,
     "metadata": {},
     "output_type": "execute_result"
    }
   ],
   "source": [
    "# Getting the polynomial features\n",
    "poly = PolynomialFeatures(degree=2)\n",
    "xtrain_poly = poly.fit_transform(xtrain)\n",
    "xtest_poly = poly.fit_transform(xtest)\n",
    "\n",
    "# Training the model\n",
    "model = LogisticRegression()\n",
    "model.fit(xtrain_poly, ytrain)\n",
    "\n",
    "# Getting the probabilities\n",
    "train_prob = model.predict_proba(xtrain_poly)[:, 1]\n",
    "test_prob = model.predict_proba(xtest_poly)[:, 1]\n",
    "\n",
    "# Computing the ROC Score\n",
    "roc_auc_score(ytrain, train_prob), roc_auc_score(ytest, test_prob)"
   ]
  },
  {
   "cell_type": "markdown",
   "id": "53cde79f-bfb7-4b9b-b9b8-56c9c832d7f6",
   "metadata": {},
   "source": [
    "Plotting ROC Curve for the Test data"
   ]
  },
  {
   "cell_type": "code",
   "execution_count": 48,
   "id": "d9973ad4-e4d7-45f0-b973-2f9298efce5e",
   "metadata": {},
   "outputs": [],
   "source": [
    "fpr_poly, tpr_poly, threshold_poly = roc_curve(ytest, test_prob)"
   ]
  },
  {
   "cell_type": "code",
   "execution_count": 49,
   "id": "8b955c90-8495-4a8d-99c7-8e0aa4c4c4d7",
   "metadata": {},
   "outputs": [
    {
     "data": {
      "image/png": "[encoded data removed]",
      "text/plain": [
       "<Figure size 576x432 with 1 Axes>"
      ]
     },
     "metadata": {},
     "output_type": "display_data"
    }
   ],
   "source": [
    "plot_roc_curve(fpr=fpr_poly, tpr=tpr_poly, label='AUC = %.3f' %  roc_auc_score(ytest, test_prob))"
   ]
  },
  {
   "cell_type": "markdown",
   "id": "e6eb7fba-4693-4558-9ea3-6c667b47eb4c",
   "metadata": {},
   "source": [
    "\n",
    "First degree is better in Logistic Regression case which gives 0.965 AUC Score.   \n",
    "Let's also check the Recall in case of model complexity."
   ]
  },
  {
   "cell_type": "code",
   "execution_count": 50,
   "id": "e9c4ca9d-cce6-40d2-a8d2-0148ef25dec5",
   "metadata": {},
   "outputs": [
    {
     "data": {
      "text/plain": [
       "0.75"
      ]
     },
     "execution_count": 50,
     "metadata": {},
     "output_type": "execute_result"
    }
   ],
   "source": [
    "recall_score(ytest, model.predict(xtest_poly))"
   ]
  },
  {
   "cell_type": "markdown",
   "id": "e36e4f24-e903-49a2-aff4-4e878cb9c09f",
   "metadata": {},
   "source": [
    "Recall has increased when the model is made complex.\n",
    "\n",
    "<font size = \"5\"> Support Vector Machine </font>  \n",
    "Let's try the Support Vector Machine algorithm.\n",
    "\n",
    "Now, for support vector machines, we need to train the model after scaling the features. Let's first do that."
   ]
  },
  {
   "cell_type": "code",
   "execution_count": 51,
   "id": "417c5040-8d04-42af-bc2f-4872bb12654e",
   "metadata": {},
   "outputs": [],
   "source": [
    "from sklearn.preprocessing import MinMaxScaler"
   ]
  },
  {
   "cell_type": "code",
   "execution_count": 52,
   "id": "cf326446-7bf3-40a2-beed-74c3e7cc66d6",
   "metadata": {},
   "outputs": [],
   "source": [
    "mms = MinMaxScaler()"
   ]
  },
  {
   "cell_type": "code",
   "execution_count": 53,
   "id": "4321e67f-1a0a-45d4-befd-3430d9612bc1",
   "metadata": {},
   "outputs": [
    {
     "data": {
      "text/html": [
       "<div>\n",
       "<style scoped>\n",
       "    .dataframe tbody tr th:only-of-type {\n",
       "        vertical-align: middle;\n",
       "    }\n",
       "\n",
       "    .dataframe tbody tr th {\n",
       "        vertical-align: top;\n",
       "    }\n",
       "\n",
       "    .dataframe thead th {\n",
       "        text-align: right;\n",
       "    }\n",
       "</style>\n",
       "<table border=\"1\" class=\"dataframe\">\n",
       "  <thead>\n",
       "    <tr style=\"text-align: right;\">\n",
       "      <th></th>\n",
       "      <th>Time</th>\n",
       "      <th>V1</th>\n",
       "      <th>V2</th>\n",
       "      <th>V3</th>\n",
       "      <th>V4</th>\n",
       "      <th>V5</th>\n",
       "      <th>V6</th>\n",
       "      <th>V7</th>\n",
       "      <th>V8</th>\n",
       "      <th>V9</th>\n",
       "      <th>...</th>\n",
       "      <th>Amount</th>\n",
       "      <th>Amount-Bins_0 to 2854</th>\n",
       "      <th>Amount-Bins_2854 to 5709</th>\n",
       "      <th>Amount-Bins_5709 to 8563</th>\n",
       "      <th>Amount-Bins_8563 to 11418</th>\n",
       "      <th>Amount-Bins_11418 to 14272</th>\n",
       "      <th>Amount-Bins_14272 to 17127</th>\n",
       "      <th>Amount-Bins_17127 to 19982</th>\n",
       "      <th>Amount-Bins_19982 to 22836</th>\n",
       "      <th>Amount-Bins_22836 to 25691</th>\n",
       "    </tr>\n",
       "  </thead>\n",
       "  <tbody>\n",
       "    <tr>\n",
       "      <th>0</th>\n",
       "      <td>0.0</td>\n",
       "      <td>-1.359807</td>\n",
       "      <td>-0.072781</td>\n",
       "      <td>2.536347</td>\n",
       "      <td>1.378155</td>\n",
       "      <td>-0.338321</td>\n",
       "      <td>0.462388</td>\n",
       "      <td>0.239599</td>\n",
       "      <td>0.098698</td>\n",
       "      <td>0.363787</td>\n",
       "      <td>...</td>\n",
       "      <td>149.62</td>\n",
       "      <td>1</td>\n",
       "      <td>0</td>\n",
       "      <td>0</td>\n",
       "      <td>0</td>\n",
       "      <td>0</td>\n",
       "      <td>0</td>\n",
       "      <td>0</td>\n",
       "      <td>0</td>\n",
       "      <td>0</td>\n",
       "    </tr>\n",
       "    <tr>\n",
       "      <th>1</th>\n",
       "      <td>0.0</td>\n",
       "      <td>1.191857</td>\n",
       "      <td>0.266151</td>\n",
       "      <td>0.166480</td>\n",
       "      <td>0.448154</td>\n",
       "      <td>0.060018</td>\n",
       "      <td>-0.082361</td>\n",
       "      <td>-0.078803</td>\n",
       "      <td>0.085102</td>\n",
       "      <td>-0.255425</td>\n",
       "      <td>...</td>\n",
       "      <td>2.69</td>\n",
       "      <td>1</td>\n",
       "      <td>0</td>\n",
       "      <td>0</td>\n",
       "      <td>0</td>\n",
       "      <td>0</td>\n",
       "      <td>0</td>\n",
       "      <td>0</td>\n",
       "      <td>0</td>\n",
       "      <td>0</td>\n",
       "    </tr>\n",
       "    <tr>\n",
       "      <th>2</th>\n",
       "      <td>1.0</td>\n",
       "      <td>-1.358354</td>\n",
       "      <td>-1.340163</td>\n",
       "      <td>1.773209</td>\n",
       "      <td>0.379780</td>\n",
       "      <td>-0.503198</td>\n",
       "      <td>1.800499</td>\n",
       "      <td>0.791461</td>\n",
       "      <td>0.247676</td>\n",
       "      <td>-1.514654</td>\n",
       "      <td>...</td>\n",
       "      <td>378.66</td>\n",
       "      <td>1</td>\n",
       "      <td>0</td>\n",
       "      <td>0</td>\n",
       "      <td>0</td>\n",
       "      <td>0</td>\n",
       "      <td>0</td>\n",
       "      <td>0</td>\n",
       "      <td>0</td>\n",
       "      <td>0</td>\n",
       "    </tr>\n",
       "    <tr>\n",
       "      <th>3</th>\n",
       "      <td>1.0</td>\n",
       "      <td>-0.966272</td>\n",
       "      <td>-0.185226</td>\n",
       "      <td>1.792993</td>\n",
       "      <td>-0.863291</td>\n",
       "      <td>-0.010309</td>\n",
       "      <td>1.247203</td>\n",
       "      <td>0.237609</td>\n",
       "      <td>0.377436</td>\n",
       "      <td>-1.387024</td>\n",
       "      <td>...</td>\n",
       "      <td>123.50</td>\n",
       "      <td>1</td>\n",
       "      <td>0</td>\n",
       "      <td>0</td>\n",
       "      <td>0</td>\n",
       "      <td>0</td>\n",
       "      <td>0</td>\n",
       "      <td>0</td>\n",
       "      <td>0</td>\n",
       "      <td>0</td>\n",
       "    </tr>\n",
       "    <tr>\n",
       "      <th>4</th>\n",
       "      <td>2.0</td>\n",
       "      <td>-1.158233</td>\n",
       "      <td>0.877737</td>\n",
       "      <td>1.548718</td>\n",
       "      <td>0.403034</td>\n",
       "      <td>-0.407193</td>\n",
       "      <td>0.095921</td>\n",
       "      <td>0.592941</td>\n",
       "      <td>-0.270533</td>\n",
       "      <td>0.817739</td>\n",
       "      <td>...</td>\n",
       "      <td>69.99</td>\n",
       "      <td>1</td>\n",
       "      <td>0</td>\n",
       "      <td>0</td>\n",
       "      <td>0</td>\n",
       "      <td>0</td>\n",
       "      <td>0</td>\n",
       "      <td>0</td>\n",
       "      <td>0</td>\n",
       "      <td>0</td>\n",
       "    </tr>\n",
       "  </tbody>\n",
       "</table>\n",
       "<p>5 rows × 39 columns</p>\n",
       "</div>"
      ],
      "text/plain": [
       "   Time        V1        V2        V3        V4        V5        V6        V7  \\\n",
       "0   0.0 -1.359807 -0.072781  2.536347  1.378155 -0.338321  0.462388  0.239599   \n",
       "1   0.0  1.191857  0.266151  0.166480  0.448154  0.060018 -0.082361 -0.078803   \n",
       "2   1.0 -1.358354 -1.340163  1.773209  0.379780 -0.503198  1.800499  0.791461   \n",
       "3   1.0 -0.966272 -0.185226  1.792993 -0.863291 -0.010309  1.247203  0.237609   \n",
       "4   2.0 -1.158233  0.877737  1.548718  0.403034 -0.407193  0.095921  0.592941   \n",
       "\n",
       "         V8        V9  ...  Amount  Amount-Bins_0 to 2854  \\\n",
       "0  0.098698  0.363787  ...  149.62                      1   \n",
       "1  0.085102 -0.255425  ...    2.69                      1   \n",
       "2  0.247676 -1.514654  ...  378.66                      1   \n",
       "3  0.377436 -1.387024  ...  123.50                      1   \n",
       "4 -0.270533  0.817739  ...   69.99                      1   \n",
       "\n",
       "   Amount-Bins_2854 to 5709  Amount-Bins_5709 to 8563  \\\n",
       "0                         0                         0   \n",
       "1                         0                         0   \n",
       "2                         0                         0   \n",
       "3                         0                         0   \n",
       "4                         0                         0   \n",
       "\n",
       "   Amount-Bins_8563 to 11418  Amount-Bins_11418 to 14272  \\\n",
       "0                          0                           0   \n",
       "1                          0                           0   \n",
       "2                          0                           0   \n",
       "3                          0                           0   \n",
       "4                          0                           0   \n",
       "\n",
       "   Amount-Bins_14272 to 17127  Amount-Bins_17127 to 19982  \\\n",
       "0                           0                           0   \n",
       "1                           0                           0   \n",
       "2                           0                           0   \n",
       "3                           0                           0   \n",
       "4                           0                           0   \n",
       "\n",
       "   Amount-Bins_19982 to 22836  Amount-Bins_22836 to 25691  \n",
       "0                           0                           0  \n",
       "1                           0                           0  \n",
       "2                           0                           0  \n",
       "3                           0                           0  \n",
       "4                           0                           0  \n",
       "\n",
       "[5 rows x 39 columns]"
      ]
     },
     "execution_count": 53,
     "metadata": {},
     "output_type": "execute_result"
    }
   ],
   "source": [
    "# Let's first check the head of the explanatory variables which are to be scaled.\n",
    "X.head()"
   ]
  },
  {
   "cell_type": "code",
   "execution_count": 54,
   "id": "5acef822-140d-44e9-a5e3-aabd606c9e88",
   "metadata": {},
   "outputs": [],
   "source": [
    "X_scaled = mms.fit_transform(X)"
   ]
  },
  {
   "cell_type": "code",
   "execution_count": 55,
   "id": "4e5c2413-8d8c-4e6a-9239-cc020bd57829",
   "metadata": {},
   "outputs": [
    {
     "data": {
      "text/html": [
       "<div>\n",
       "<style scoped>\n",
       "    .dataframe tbody tr th:only-of-type {\n",
       "        vertical-align: middle;\n",
       "    }\n",
       "\n",
       "    .dataframe tbody tr th {\n",
       "        vertical-align: top;\n",
       "    }\n",
       "\n",
       "    .dataframe thead th {\n",
       "        text-align: right;\n",
       "    }\n",
       "</style>\n",
       "<table border=\"1\" class=\"dataframe\">\n",
       "  <thead>\n",
       "    <tr style=\"text-align: right;\">\n",
       "      <th></th>\n",
       "      <th>Time</th>\n",
       "      <th>V1</th>\n",
       "      <th>V2</th>\n",
       "      <th>V3</th>\n",
       "      <th>V4</th>\n",
       "      <th>V5</th>\n",
       "      <th>V6</th>\n",
       "      <th>V7</th>\n",
       "      <th>V8</th>\n",
       "      <th>V9</th>\n",
       "      <th>...</th>\n",
       "      <th>Amount</th>\n",
       "      <th>Amount-Bins_0 to 2854</th>\n",
       "      <th>Amount-Bins_2854 to 5709</th>\n",
       "      <th>Amount-Bins_5709 to 8563</th>\n",
       "      <th>Amount-Bins_8563 to 11418</th>\n",
       "      <th>Amount-Bins_11418 to 14272</th>\n",
       "      <th>Amount-Bins_14272 to 17127</th>\n",
       "      <th>Amount-Bins_17127 to 19982</th>\n",
       "      <th>Amount-Bins_19982 to 22836</th>\n",
       "      <th>Amount-Bins_22836 to 25691</th>\n",
       "    </tr>\n",
       "  </thead>\n",
       "  <tbody>\n",
       "    <tr>\n",
       "      <th>0</th>\n",
       "      <td>0.000000</td>\n",
       "      <td>0.935192</td>\n",
       "      <td>0.766490</td>\n",
       "      <td>0.881365</td>\n",
       "      <td>0.313023</td>\n",
       "      <td>0.763439</td>\n",
       "      <td>0.267669</td>\n",
       "      <td>0.266815</td>\n",
       "      <td>0.786444</td>\n",
       "      <td>0.475312</td>\n",
       "      <td>...</td>\n",
       "      <td>0.005824</td>\n",
       "      <td>1.0</td>\n",
       "      <td>0.0</td>\n",
       "      <td>0.0</td>\n",
       "      <td>0.0</td>\n",
       "      <td>0.0</td>\n",
       "      <td>0.0</td>\n",
       "      <td>0.0</td>\n",
       "      <td>0.0</td>\n",
       "      <td>0.0</td>\n",
       "    </tr>\n",
       "    <tr>\n",
       "      <th>1</th>\n",
       "      <td>0.000000</td>\n",
       "      <td>0.978542</td>\n",
       "      <td>0.770067</td>\n",
       "      <td>0.840298</td>\n",
       "      <td>0.271796</td>\n",
       "      <td>0.766120</td>\n",
       "      <td>0.262192</td>\n",
       "      <td>0.264875</td>\n",
       "      <td>0.786298</td>\n",
       "      <td>0.453981</td>\n",
       "      <td>...</td>\n",
       "      <td>0.000105</td>\n",
       "      <td>1.0</td>\n",
       "      <td>0.0</td>\n",
       "      <td>0.0</td>\n",
       "      <td>0.0</td>\n",
       "      <td>0.0</td>\n",
       "      <td>0.0</td>\n",
       "      <td>0.0</td>\n",
       "      <td>0.0</td>\n",
       "      <td>0.0</td>\n",
       "    </tr>\n",
       "    <tr>\n",
       "      <th>2</th>\n",
       "      <td>0.000006</td>\n",
       "      <td>0.935217</td>\n",
       "      <td>0.753118</td>\n",
       "      <td>0.868141</td>\n",
       "      <td>0.268766</td>\n",
       "      <td>0.762329</td>\n",
       "      <td>0.281122</td>\n",
       "      <td>0.270177</td>\n",
       "      <td>0.788042</td>\n",
       "      <td>0.410603</td>\n",
       "      <td>...</td>\n",
       "      <td>0.014739</td>\n",
       "      <td>1.0</td>\n",
       "      <td>0.0</td>\n",
       "      <td>0.0</td>\n",
       "      <td>0.0</td>\n",
       "      <td>0.0</td>\n",
       "      <td>0.0</td>\n",
       "      <td>0.0</td>\n",
       "      <td>0.0</td>\n",
       "      <td>0.0</td>\n",
       "    </tr>\n",
       "    <tr>\n",
       "      <th>3</th>\n",
       "      <td>0.000006</td>\n",
       "      <td>0.941878</td>\n",
       "      <td>0.765304</td>\n",
       "      <td>0.868484</td>\n",
       "      <td>0.213661</td>\n",
       "      <td>0.765647</td>\n",
       "      <td>0.275559</td>\n",
       "      <td>0.266803</td>\n",
       "      <td>0.789434</td>\n",
       "      <td>0.414999</td>\n",
       "      <td>...</td>\n",
       "      <td>0.004807</td>\n",
       "      <td>1.0</td>\n",
       "      <td>0.0</td>\n",
       "      <td>0.0</td>\n",
       "      <td>0.0</td>\n",
       "      <td>0.0</td>\n",
       "      <td>0.0</td>\n",
       "      <td>0.0</td>\n",
       "      <td>0.0</td>\n",
       "      <td>0.0</td>\n",
       "    </tr>\n",
       "    <tr>\n",
       "      <th>4</th>\n",
       "      <td>0.000012</td>\n",
       "      <td>0.938617</td>\n",
       "      <td>0.776520</td>\n",
       "      <td>0.864251</td>\n",
       "      <td>0.269796</td>\n",
       "      <td>0.762975</td>\n",
       "      <td>0.263984</td>\n",
       "      <td>0.268968</td>\n",
       "      <td>0.782484</td>\n",
       "      <td>0.490950</td>\n",
       "      <td>...</td>\n",
       "      <td>0.002724</td>\n",
       "      <td>1.0</td>\n",
       "      <td>0.0</td>\n",
       "      <td>0.0</td>\n",
       "      <td>0.0</td>\n",
       "      <td>0.0</td>\n",
       "      <td>0.0</td>\n",
       "      <td>0.0</td>\n",
       "      <td>0.0</td>\n",
       "      <td>0.0</td>\n",
       "    </tr>\n",
       "  </tbody>\n",
       "</table>\n",
       "<p>5 rows × 39 columns</p>\n",
       "</div>"
      ],
      "text/plain": [
       "       Time        V1        V2        V3        V4        V5        V6  \\\n",
       "0  0.000000  0.935192  0.766490  0.881365  0.313023  0.763439  0.267669   \n",
       "1  0.000000  0.978542  0.770067  0.840298  0.271796  0.766120  0.262192   \n",
       "2  0.000006  0.935217  0.753118  0.868141  0.268766  0.762329  0.281122   \n",
       "3  0.000006  0.941878  0.765304  0.868484  0.213661  0.765647  0.275559   \n",
       "4  0.000012  0.938617  0.776520  0.864251  0.269796  0.762975  0.263984   \n",
       "\n",
       "         V7        V8        V9  ...    Amount  Amount-Bins_0 to 2854  \\\n",
       "0  0.266815  0.786444  0.475312  ...  0.005824                    1.0   \n",
       "1  0.264875  0.786298  0.453981  ...  0.000105                    1.0   \n",
       "2  0.270177  0.788042  0.410603  ...  0.014739                    1.0   \n",
       "3  0.266803  0.789434  0.414999  ...  0.004807                    1.0   \n",
       "4  0.268968  0.782484  0.490950  ...  0.002724                    1.0   \n",
       "\n",
       "   Amount-Bins_2854 to 5709  Amount-Bins_5709 to 8563  \\\n",
       "0                       0.0                       0.0   \n",
       "1                       0.0                       0.0   \n",
       "2                       0.0                       0.0   \n",
       "3                       0.0                       0.0   \n",
       "4                       0.0                       0.0   \n",
       "\n",
       "   Amount-Bins_8563 to 11418  Amount-Bins_11418 to 14272  \\\n",
       "0                        0.0                         0.0   \n",
       "1                        0.0                         0.0   \n",
       "2                        0.0                         0.0   \n",
       "3                        0.0                         0.0   \n",
       "4                        0.0                         0.0   \n",
       "\n",
       "   Amount-Bins_14272 to 17127  Amount-Bins_17127 to 19982  \\\n",
       "0                         0.0                         0.0   \n",
       "1                         0.0                         0.0   \n",
       "2                         0.0                         0.0   \n",
       "3                         0.0                         0.0   \n",
       "4                         0.0                         0.0   \n",
       "\n",
       "   Amount-Bins_19982 to 22836  Amount-Bins_22836 to 25691  \n",
       "0                         0.0                         0.0  \n",
       "1                         0.0                         0.0  \n",
       "2                         0.0                         0.0  \n",
       "3                         0.0                         0.0  \n",
       "4                         0.0                         0.0  \n",
       "\n",
       "[5 rows x 39 columns]"
      ]
     },
     "execution_count": 55,
     "metadata": {},
     "output_type": "execute_result"
    }
   ],
   "source": [
    "X_scaled = pd.DataFrame(data=X_scaled, columns=X.columns)\n",
    "X_scaled.head()"
   ]
  },
  {
   "cell_type": "markdown",
   "id": "c684cec1-8552-40a4-856d-a9eb8ea0d50a",
   "metadata": {},
   "source": [
    "Now, let's train test split on the scaled data."
   ]
  },
  {
   "cell_type": "code",
   "execution_count": 56,
   "id": "dd159964-2e4b-4f28-b4ad-f96436e959b3",
   "metadata": {},
   "outputs": [],
   "source": [
    "xtrainS, xtestS, ytrainS, ytestS = train_test_split(\n",
    "    X_scaled, Y, random_state=42, test_size=0.30, shuffle=True)"
   ]
  },
  {
   "cell_type": "code",
   "execution_count": 57,
   "id": "9b7a44e8-d492-48e3-a08a-f86e0bab6090",
   "metadata": {},
   "outputs": [
    {
     "name": "stdout",
     "output_type": "stream",
     "text": [
      "(199364, 39) (199364,)\n",
      "(85443, 39) (85443,)\n"
     ]
    }
   ],
   "source": [
    "print(xtrainS.shape, ytrainS.shape)\n",
    "print(xtestS.shape, ytestS.shape)"
   ]
  },
  {
   "cell_type": "code",
   "execution_count": 58,
   "id": "1e52157f-3085-4f93-a512-04c9dce1b8de",
   "metadata": {},
   "outputs": [],
   "source": [
    "from sklearn.svm import SVC"
   ]
  },
  {
   "cell_type": "code",
   "execution_count": 59,
   "id": "3eb1c457-293c-4535-be38-aecda6f037ad",
   "metadata": {},
   "outputs": [],
   "source": [
    "svc_model = SVC(kernel='linear', probability=True)"
   ]
  },
  {
   "cell_type": "code",
   "execution_count": 60,
   "id": "fe003d1e-26f5-4309-bc3d-8d1c1a5657f7",
   "metadata": {},
   "outputs": [
    {
     "data": {
      "text/plain": [
       "SVC(kernel='linear', probability=True)"
      ]
     },
     "execution_count": 60,
     "metadata": {},
     "output_type": "execute_result"
    }
   ],
   "source": [
    "svc_model.fit(xtrainS, ytrainS)"
   ]
  },
  {
   "cell_type": "code",
   "execution_count": 61,
   "id": "709ffd9b-b145-41fb-9a2d-2865860b8269",
   "metadata": {},
   "outputs": [],
   "source": [
    "svc_pred = svc_model.predict(xtestS)"
   ]
  },
  {
   "cell_type": "code",
   "execution_count": 62,
   "id": "16fdd798-1904-49e7-bc27-2036cec69ec4",
   "metadata": {},
   "outputs": [],
   "source": [
    "tn_svc, fp_svc, fn_svc, tp_svc= confusion_matrix(ytestS, svc_pred).ravel()\n"
   ]
  },
  {
   "cell_type": "code",
   "execution_count": 63,
   "id": "90e861a1-efe6-4ddb-89e4-f0f2445f3d4f",
   "metadata": {},
   "outputs": [
    {
     "data": {
      "text/html": [
       "<div>\n",
       "<style scoped>\n",
       "    .dataframe tbody tr th:only-of-type {\n",
       "        vertical-align: middle;\n",
       "    }\n",
       "\n",
       "    .dataframe tbody tr th {\n",
       "        vertical-align: top;\n",
       "    }\n",
       "\n",
       "    .dataframe thead th {\n",
       "        text-align: right;\n",
       "    }\n",
       "</style>\n",
       "<table border=\"1\" class=\"dataframe\">\n",
       "  <thead>\n",
       "    <tr style=\"text-align: right;\">\n",
       "      <th></th>\n",
       "      <th>Predicted Fraud</th>\n",
       "      <th>Predicted Not Fraud</th>\n",
       "    </tr>\n",
       "  </thead>\n",
       "  <tbody>\n",
       "    <tr>\n",
       "      <th>Fraud</th>\n",
       "      <td>109</td>\n",
       "      <td>27</td>\n",
       "    </tr>\n",
       "    <tr>\n",
       "      <th>Not Fraud</th>\n",
       "      <td>22</td>\n",
       "      <td>85285</td>\n",
       "    </tr>\n",
       "  </tbody>\n",
       "</table>\n",
       "</div>"
      ],
      "text/plain": [
       "           Predicted Fraud  Predicted Not Fraud\n",
       "Fraud                  109                   27\n",
       "Not Fraud               22                85285"
      ]
     },
     "execution_count": 63,
     "metadata": {},
     "output_type": "execute_result"
    }
   ],
   "source": [
    "conf_matrix_svc = pd.DataFrame(\n",
    "    {\n",
    "        'Predicted Fraud': [tp_svc, fp_svc],\n",
    "        'Predicted Not Fraud': [fn_svc, tn_svc]\n",
    "    }, index=['Fraud', 'Not Fraud'])\n",
    "conf_matrix_svc"
   ]
  },
  {
   "cell_type": "code",
   "execution_count": 64,
   "id": "9846dcf2-57c7-4c2e-a445-cb1604b78383",
   "metadata": {},
   "outputs": [
    {
     "data": {
      "text/plain": [
       "<AxesSubplot:>"
      ]
     },
     "execution_count": 64,
     "metadata": {},
     "output_type": "execute_result"
    },
    {
     "data": {
      "image/png": "[encoded data removed]",
      "text/plain": [
       "<Figure size 432x288 with 2 Axes>"
      ]
     },
     "metadata": {},
     "output_type": "display_data"
    }
   ],
   "source": [
    "sns.heatmap(conf_matrix_svc, annot=True)"
   ]
  },
  {
   "cell_type": "code",
   "execution_count": 65,
   "id": "a42cf913-5b49-49b8-a632-3ecb8fdf7dc2",
   "metadata": {},
   "outputs": [
    {
     "name": "stdout",
     "output_type": "stream",
     "text": [
      "              precision    recall  f1-score   support\n",
      "\n",
      "           0       1.00      1.00      1.00     85307\n",
      "           1       0.83      0.80      0.82       136\n",
      "\n",
      "    accuracy                           1.00     85443\n",
      "   macro avg       0.92      0.90      0.91     85443\n",
      "weighted avg       1.00      1.00      1.00     85443\n",
      "\n"
     ]
    }
   ],
   "source": [
    "print(classification_report(ytestS, svc_pred))"
   ]
  },
  {
   "cell_type": "markdown",
   "id": "25d327cc-f8e8-4295-b0b5-af004f87930d",
   "metadata": {},
   "source": [
    "Let's first check the recall score."
   ]
  },
  {
   "cell_type": "code",
   "execution_count": 66,
   "id": "51896340-cf64-4cf3-9fec-586c6f387e6c",
   "metadata": {},
   "outputs": [
    {
     "data": {
      "text/plain": [
       "0.8014705882352942"
      ]
     },
     "execution_count": 66,
     "metadata": {},
     "output_type": "execute_result"
    }
   ],
   "source": [
    "svc_recall = recall_score(ytestS, svc_pred)\n",
    "svc_recall"
   ]
  },
  {
   "cell_type": "markdown",
   "id": "a8ca7739-cdbd-4c8c-aea2-f25947e1f1e5",
   "metadata": {},
   "source": [
    "Recall quite increased in case of SVC."
   ]
  },
  {
   "cell_type": "code",
   "execution_count": 67,
   "id": "58958e12-3ee1-4d04-be6c-3a946309f5b4",
   "metadata": {},
   "outputs": [],
   "source": [
    "svc_pred_prob = svc_model.predict_proba(xtestS)[:, 1]"
   ]
  },
  {
   "cell_type": "markdown",
   "id": "55d6cc54-18c3-443d-b663-fd9531a4a0a5",
   "metadata": {},
   "source": [
    "Now, let's draw the ROC Curve."
   ]
  },
  {
   "cell_type": "code",
   "execution_count": 68,
   "id": "cd0bc168-db42-4669-9674-87d6eac26c4f",
   "metadata": {},
   "outputs": [
    {
     "data": {
      "image/png": "[encoded data removed]",
      "text/plain": [
       "<Figure size 576x432 with 1 Axes>"
      ]
     },
     "metadata": {},
     "output_type": "display_data"
    }
   ],
   "source": [
    "# First, getting the auc score\n",
    "svc_auc = roc_auc_score(ytestS, svc_pred_prob)\n",
    "\n",
    "# Now, let's get the fpr and tpr\n",
    "fpr, tpr, threshold = roc_curve(ytestS, svc_pred_prob)\n",
    "\n",
    "# Now, let's draw the curve\n",
    "plot_roc_curve(fpr, tpr, 'AUC: %.3f' % svc_auc)"
   ]
  },
  {
   "cell_type": "markdown",
   "id": "beb8897f-d58f-4b21-a955-6600519d5627",
   "metadata": {},
   "source": [
    "\n",
    "The score AUC Score SVC gave is also pretty great. But it's still less than Logistic Regression Model. But the Recall increased significantly.\n",
    "\n",
    "<font size = \"4\"> Tuning the Hyper-parameters </font>     \n",
    "Now, let's tune some of the hyper-parameters of SVM and then compare the scores."
   ]
  },
  {
   "cell_type": "code",
   "execution_count": 69,
   "id": "bdbfcc0b-384b-4e28-a1f8-6d315ac8c921",
   "metadata": {},
   "outputs": [],
   "source": [
    "# For Kernel = rbf\n",
    "tuned_rbf = {'kernel': ['rbf'], 'gamma': [\n",
    "    1e-2, 1e-3, 1e-4, 1e-5], 'C': [0.001, 0.10, 0.1, 10, 25, 50, 100, 1000]}\n",
    "\n",
    "# For kernel = sigmoid\n",
    "tuned_sigmoid = {'kernel': ['sigmoid'], 'gamma': [\n",
    "    1e-2, 1e-3, 1e-4, 1e-5], 'C': [0.001, 0.10, 0.1, 10, 25, 50, 100, 1000]}\n",
    "\n",
    "# For kernel = linear\n",
    "tuned_linear = {'kernel': ['linear'], 'C': [\n",
    "    0.001, 0.10, 0.1, 10, 25, 50, 100, 1000]}"
   ]
  },
  {
   "cell_type": "code",
   "execution_count": 70,
   "id": "47147112-7b70-4d3a-b44e-404894adbc6e",
   "metadata": {},
   "outputs": [],
   "source": [
    "from sklearn.model_selection import RandomizedSearchCV"
   ]
  },
  {
   "cell_type": "code",
   "execution_count": 71,
   "id": "a109a456-d2f8-45de-ba1c-7b48dd8629b9",
   "metadata": {},
   "outputs": [],
   "source": [
    "rs_rbf = RandomizedSearchCV(estimator=SVC(probability=True), \n",
    "        param_distributions=tuned_rbf, n_iter=500, n_jobs=4, scoring='roc_auc')\n",
    "\n",
    "rs_sigmoid = RandomizedSearchCV(estimator=SVC(probability=True), \n",
    "        param_distributions=tuned_sigmoid, n_iter=500, n_jobs=4, scoring='roc_auc')\n",
    "\n",
    "rs_linear = RandomizedSearchCV(estimator=SVC(probability=True), \n",
    "        param_distributions=tuned_linear, n_iter=500, n_jobs=4, scoring='roc_auc')"
   ]
  },
  {
   "cell_type": "markdown",
   "id": "05e3fefd-949d-47a8-9f50-d07bab8b6eca",
   "metadata": {},
   "source": [
    "For kernel rbf:"
   ]
  },
  {
   "cell_type": "code",
   "execution_count": 72,
   "id": "aa6ade90-f9ec-404f-a24c-db00d27e8fe9",
   "metadata": {},
   "outputs": [
    {
     "data": {
      "text/plain": [
       "RandomizedSearchCV(estimator=SVC(probability=True), n_iter=500, n_jobs=4,\n",
       "                   param_distributions={'C': [0.001, 0.1, 0.1, 10, 25, 50, 100,\n",
       "                                              1000],\n",
       "                                        'gamma': [0.01, 0.001, 0.0001, 1e-05],\n",
       "                                        'kernel': ['rbf']},\n",
       "                   scoring='roc_auc')"
      ]
     },
     "execution_count": 72,
     "metadata": {},
     "output_type": "execute_result"
    }
   ],
   "source": [
    "rs_rbf.fit(xtrainS[::10], ytrainS[::10])"
   ]
  },
  {
   "cell_type": "code",
   "execution_count": 73,
   "id": "21a60707-94d2-49b7-bb22-b01cb689e1f7",
   "metadata": {},
   "outputs": [
    {
     "data": {
      "text/plain": [
       "SVC(C=1000, gamma=0.01, probability=True)"
      ]
     },
     "execution_count": 73,
     "metadata": {},
     "output_type": "execute_result"
    }
   ],
   "source": [
    "rs_rbf.best_estimator_"
   ]
  },
  {
   "cell_type": "code",
   "execution_count": 74,
   "id": "d9b065be-6b27-46b7-adf1-0907ad21dcfc",
   "metadata": {},
   "outputs": [],
   "source": [
    "svc_rbf_best_est = rs_rbf.best_estimator_"
   ]
  },
  {
   "cell_type": "markdown",
   "id": "8cdf79d4-e7d6-421c-991f-1ced1dec6863",
   "metadata": {},
   "source": [
    "Let's fit the model on the best rbf estimator."
   ]
  },
  {
   "cell_type": "code",
   "execution_count": 75,
   "id": "c70d4f1c-6d2a-4f1d-9406-b9bdc3f4773a",
   "metadata": {},
   "outputs": [
    {
     "data": {
      "text/plain": [
       "SVC(C=1000, gamma=0.01, probability=True)"
      ]
     },
     "execution_count": 75,
     "metadata": {},
     "output_type": "execute_result"
    }
   ],
   "source": [
    "svc_rbf_best_est.fit(xtrainS[::10], ytrainS[::10])"
   ]
  },
  {
   "cell_type": "code",
   "execution_count": 76,
   "id": "677aa063-7caa-46fc-a69d-6627677ef4db",
   "metadata": {},
   "outputs": [],
   "source": [
    "svc_rbf_best_est_pred = svc_rbf_best_est.predict(xtestS[::10])"
   ]
  },
  {
   "cell_type": "code",
   "execution_count": 77,
   "id": "7d5b6b4f-42c4-4e66-9291-8ce3597b2ac1",
   "metadata": {},
   "outputs": [],
   "source": [
    "svc_rbf_best_est_pred_proba = svc_rbf_best_est.predict_proba(xtestS[::10])[:, 1]"
   ]
  },
  {
   "cell_type": "markdown",
   "id": "fd3d8136-6be0-48a6-9d78-a63f2b3ab7f0",
   "metadata": {},
   "source": [
    "Getting the AUC Score."
   ]
  },
  {
   "cell_type": "code",
   "execution_count": 78,
   "id": "de3e64f0-ad71-4639-8d29-ef91282c8fc7",
   "metadata": {},
   "outputs": [],
   "source": [
    "svc_rbf_auc = roc_auc_score(ytestS[::10], svc_rbf_best_est_pred_proba)"
   ]
  },
  {
   "cell_type": "markdown",
   "id": "c58c3940-3cf7-432d-a429-2062e093a6d4",
   "metadata": {},
   "source": [
    "Getting the Recall too."
   ]
  },
  {
   "cell_type": "code",
   "execution_count": 79,
   "id": "e58c891f-0a03-47e6-95c5-50c86824970a",
   "metadata": {},
   "outputs": [
    {
     "data": {
      "text/plain": [
       "0.9473684210526315"
      ]
     },
     "execution_count": 79,
     "metadata": {},
     "output_type": "execute_result"
    }
   ],
   "source": [
    "svc_rbf_recall = recall_score(ytestS[::10], svc_rbf_best_est_pred)\n",
    "svc_rbf_recall"
   ]
  },
  {
   "cell_type": "markdown",
   "id": "67b00542-962f-4218-8047-bd0d794caeee",
   "metadata": {},
   "source": [
    "We can see that in this model, both recall and ROC Score are great. Let's draw the ROC Curve."
   ]
  },
  {
   "cell_type": "code",
   "execution_count": 80,
   "id": "fa3edb52-d96d-41fe-9c98-a46780614649",
   "metadata": {},
   "outputs": [
    {
     "data": {
      "image/png": "[encoded data removed]",
      "text/plain": [
       "<Figure size 576x432 with 1 Axes>"
      ]
     },
     "metadata": {},
     "output_type": "display_data"
    }
   ],
   "source": [
    "fpr, tpr, threshold = roc_curve(ytestS[::10], svc_rbf_best_est_pred_proba)\n",
    "plot_roc_curve(fpr, tpr, 'AUC = %.3f' % svc_rbf_auc)"
   ]
  },
  {
   "cell_type": "markdown",
   "id": "d310917f-8c69-4a2d-8cd1-742bdfd8dfca",
   "metadata": {},
   "source": [
    "Now, for kernel sigmoid."
   ]
  },
  {
   "cell_type": "code",
   "execution_count": 81,
   "id": "df3aa668-2a29-44cb-82b1-1b9aae389f83",
   "metadata": {},
   "outputs": [
    {
     "data": {
      "text/plain": [
       "RandomizedSearchCV(estimator=SVC(probability=True), n_iter=500, n_jobs=4,\n",
       "                   param_distributions={'C': [0.001, 0.1, 0.1, 10, 25, 50, 100,\n",
       "                                              1000],\n",
       "                                        'gamma': [0.01, 0.001, 0.0001, 1e-05],\n",
       "                                        'kernel': ['sigmoid']},\n",
       "                   scoring='roc_auc')"
      ]
     },
     "execution_count": 81,
     "metadata": {},
     "output_type": "execute_result"
    }
   ],
   "source": [
    "rs_sigmoid.fit(xtrainS[::10], ytrainS[::10])"
   ]
  },
  {
   "cell_type": "code",
   "execution_count": 82,
   "id": "3136637c-a747-4cc3-8e4d-577b1e692314",
   "metadata": {},
   "outputs": [],
   "source": [
    "svc_sigmoid = rs_sigmoid.best_estimator_"
   ]
  },
  {
   "cell_type": "code",
   "execution_count": 83,
   "id": "2c773c83-82db-4fc2-a683-f904a15beb06",
   "metadata": {},
   "outputs": [
    {
     "data": {
      "text/plain": [
       "SVC(C=1000, gamma=0.01, kernel='sigmoid', probability=True)"
      ]
     },
     "execution_count": 83,
     "metadata": {},
     "output_type": "execute_result"
    }
   ],
   "source": [
    "svc_sigmoid.fit(xtrainS[::10], ytrainS[::10])"
   ]
  },
  {
   "cell_type": "code",
   "execution_count": 84,
   "id": "a8ef1e09-2344-4c20-aa83-978a78b076ab",
   "metadata": {},
   "outputs": [],
   "source": [
    "svc_sigmoid_pred = svc_sigmoid.predict(xtestS[::10])\n",
    "svc_sigmoid_pred_proba = svc_sigmoid.predict_proba(xtestS[::10])[:, 1]"
   ]
  },
  {
   "cell_type": "markdown",
   "id": "1500857f-38ab-492b-a71b-f1fdfb10e868",
   "metadata": {},
   "source": [
    "AUC:"
   ]
  },
  {
   "cell_type": "code",
   "execution_count": 85,
   "id": "c6b45077-5f0d-418c-8cb5-c748ea0c602c",
   "metadata": {},
   "outputs": [
    {
     "data": {
      "text/plain": [
       "0.9999938269318616"
      ]
     },
     "execution_count": 85,
     "metadata": {},
     "output_type": "execute_result"
    }
   ],
   "source": [
    "svc_sigmoid_auc = roc_auc_score(ytestS[::10], svc_sigmoid_pred_proba)\n",
    "svc_sigmoid_auc"
   ]
  },
  {
   "cell_type": "markdown",
   "id": "8e5087a8-0021-4b1d-a4d0-c7b3416e4ad2",
   "metadata": {},
   "source": [
    "Recall:"
   ]
  },
  {
   "cell_type": "code",
   "execution_count": 86,
   "id": "11f58c93-f2d2-4aeb-8c26-774b36118a16",
   "metadata": {},
   "outputs": [
    {
     "data": {
      "text/plain": [
       "0.9473684210526315"
      ]
     },
     "execution_count": 86,
     "metadata": {},
     "output_type": "execute_result"
    }
   ],
   "source": [
    "svc_sigmoid_recall = recall_score(ytestS[::10], svc_sigmoid_pred)\n",
    "svc_sigmoid_recall"
   ]
  },
  {
   "cell_type": "code",
   "execution_count": 87,
   "id": "b3fbc82b-652e-4c56-ad0d-fc9ed6e51027",
   "metadata": {},
   "outputs": [
    {
     "data": {
      "image/png": "[encoded data removed]",
      "text/plain": [
       "<Figure size 576x432 with 1 Axes>"
      ]
     },
     "metadata": {},
     "output_type": "display_data"
    }
   ],
   "source": [
    "fpr, tpr, threshold = roc_curve(ytestS[::10], svc_sigmoid_pred_proba)\n",
    "plot_roc_curve(fpr, tpr, 'AUC = %.3f' % svc_sigmoid_auc)"
   ]
  },
  {
   "cell_type": "markdown",
   "id": "5f118ae4-caf2-4469-8413-b378f8f47bdb",
   "metadata": {},
   "source": [
    "Let's check for Linear kernel."
   ]
  },
  {
   "cell_type": "code",
   "execution_count": 88,
   "id": "2fbcb548-eddd-4e8b-8dc3-bff614850ee9",
   "metadata": {},
   "outputs": [
    {
     "data": {
      "text/plain": [
       "RandomizedSearchCV(estimator=SVC(probability=True), n_iter=500, n_jobs=4,\n",
       "                   param_distributions={'C': [0.001, 0.1, 0.1, 10, 25, 50, 100,\n",
       "                                              1000],\n",
       "                                        'kernel': ['linear']},\n",
       "                   scoring='roc_auc')"
      ]
     },
     "execution_count": 88,
     "metadata": {},
     "output_type": "execute_result"
    }
   ],
   "source": [
    "rs_linear.fit(xtrainS[::5], ytrainS[::5])"
   ]
  },
  {
   "cell_type": "code",
   "execution_count": 89,
   "id": "05644158-206f-4feb-86b6-3a7ccf32ed76",
   "metadata": {},
   "outputs": [],
   "source": [
    "svc_linear = rs_linear.best_estimator_"
   ]
  },
  {
   "cell_type": "code",
   "execution_count": 90,
   "id": "7e41479e-46a7-47fd-94cd-3c0395d8bca4",
   "metadata": {},
   "outputs": [
    {
     "data": {
      "text/plain": [
       "SVC(C=25, kernel='linear', probability=True)"
      ]
     },
     "execution_count": 90,
     "metadata": {},
     "output_type": "execute_result"
    }
   ],
   "source": [
    "svc_linear.fit(xtrainS[::5], ytrainS[::5])"
   ]
  },
  {
   "cell_type": "markdown",
   "id": "81e0cddc-9268-471d-af8e-606330266dd3",
   "metadata": {},
   "source": [
    "Getting the predictions and probabilities."
   ]
  },
  {
   "cell_type": "code",
   "execution_count": 91,
   "id": "5575932c-597d-4a52-b8e3-53f3085dc11c",
   "metadata": {},
   "outputs": [],
   "source": [
    "svc_linear_pred = svc_linear.predict(xtestS[::5])\n",
    "svc_linear_pred_proba = svc_linear.predict_proba(xtestS[::5])[:, 1]"
   ]
  },
  {
   "cell_type": "markdown",
   "id": "f007b0f3-1be5-4434-8325-3b6e43aaf227",
   "metadata": {},
   "source": [
    "AUC and ROC Curve"
   ]
  },
  {
   "cell_type": "code",
   "execution_count": 92,
   "id": "fd60c138-72d9-4907-836b-5c09a6615452",
   "metadata": {
    "tags": []
   },
   "outputs": [
    {
     "data": {
      "image/png": "[encoded data removed]",
      "text/plain": [
       "<Figure size 576x432 with 1 Axes>"
      ]
     },
     "metadata": {},
     "output_type": "display_data"
    }
   ],
   "source": [
    "svc_linear_auc = roc_auc_score(ytestS[::5], svc_linear_pred_proba)\n",
    "\n",
    "fpr, tpr, threshold = roc_curve(ytestS[::5], svc_linear_pred_proba)\n",
    "plot_roc_curve(fpr, tpr, 'AUC = %.3f' % svc_linear_auc)"
   ]
  },
  {
   "cell_type": "markdown",
   "id": "47a3597c-6722-4c86-908f-dc2594fbdcdc",
   "metadata": {},
   "source": [
    "Let's check the recall too."
   ]
  },
  {
   "cell_type": "code",
   "execution_count": 93,
   "id": "b73014cd-3686-44a7-bbeb-572e29ad9285",
   "metadata": {},
   "outputs": [
    {
     "data": {
      "text/plain": [
       "0.8571428571428571"
      ]
     },
     "execution_count": 93,
     "metadata": {},
     "output_type": "execute_result"
    }
   ],
   "source": [
    "svc_linear_recall = recall_score(ytestS[::5], svc_linear_pred)\n",
    "svc_linear_recall"
   ]
  },
  {
   "cell_type": "markdown",
   "id": "ecd273f2-f53b-4e88-bf80-c8d6954d764b",
   "metadata": {},
   "source": [
    "AUC is great in case of a linear kernel however it's less than that of rbf kernel. And its recall decreased quite a bit."
   ]
  },
  {
   "cell_type": "markdown",
   "id": "47f647ce-c3d2-4d41-9c67-4294d4e87d7a",
   "metadata": {},
   "source": [
    "<font size = \"5\" > Naive Bayes Algorithm </font>   \n",
    "Now, let's try the famous Naive Bayes Machine Learning Algorithm."
   ]
  },
  {
   "cell_type": "code",
   "execution_count": 94,
   "id": "6f2da2ec-280a-4060-b701-e7f43b1d2b11",
   "metadata": {},
   "outputs": [],
   "source": [
    "from sklearn.naive_bayes import GaussianNB"
   ]
  },
  {
   "cell_type": "code",
   "execution_count": 95,
   "id": "3b4b343d-8216-48aa-a502-418562eea9a9",
   "metadata": {},
   "outputs": [],
   "source": [
    "nb = GaussianNB()"
   ]
  },
  {
   "cell_type": "markdown",
   "id": "f8d0c2e1-5fb5-4d04-9c46-c0ac9c76f37e",
   "metadata": {},
   "source": [
    "Let's first train the algorithm on the default settings."
   ]
  },
  {
   "cell_type": "code",
   "execution_count": 96,
   "id": "933623c8-b98e-4858-a6f0-b5ed1fdbb99e",
   "metadata": {},
   "outputs": [
    {
     "data": {
      "text/plain": [
       "GaussianNB()"
      ]
     },
     "execution_count": 96,
     "metadata": {},
     "output_type": "execute_result"
    }
   ],
   "source": [
    "nb.fit(xtrain, ytrain)"
   ]
  },
  {
   "cell_type": "code",
   "execution_count": 97,
   "id": "ff4d01a5-d7e3-4a21-8f91-2e0db40e8909",
   "metadata": {},
   "outputs": [],
   "source": [
    "nb_pred = nb.predict(xtest)\n",
    "nb_pred_proba = nb.predict_proba(xtest)[:, 1]"
   ]
  },
  {
   "cell_type": "code",
   "execution_count": 98,
   "id": "304162ff-c6f1-4a86-9c0f-40ee76266250",
   "metadata": {},
   "outputs": [],
   "source": [
    "nb_auc = roc_auc_score(ytest, nb_pred)"
   ]
  },
  {
   "cell_type": "code",
   "execution_count": 99,
   "id": "14ea2e00-bb41-47fb-be10-5dd56b0aff57",
   "metadata": {},
   "outputs": [
    {
     "data": {
      "image/png": "[encoded data removed]",
      "text/plain": [
       "<Figure size 576x432 with 1 Axes>"
      ]
     },
     "metadata": {},
     "output_type": "display_data"
    }
   ],
   "source": [
    "fpr, tpr, threshold = roc_curve(ytestS, nb_pred_proba)\n",
    "plot_roc_curve(fpr, tpr, 'AUC = %.3f' % nb_auc)"
   ]
  },
  {
   "cell_type": "code",
   "execution_count": 100,
   "id": "a020dfd6-bb7b-4296-bfad-548f053b8937",
   "metadata": {},
   "outputs": [
    {
     "data": {
      "text/plain": [
       "0.6617647058823529"
      ]
     },
     "execution_count": 100,
     "metadata": {},
     "output_type": "execute_result"
    }
   ],
   "source": [
    "nb_recall = recall_score(ytest, nb_pred)\n",
    "nb_recall"
   ]
  },
  {
   "cell_type": "markdown",
   "id": "8a3da4ce-0b2c-4b90-90cc-f0d1e923ad41",
   "metadata": {},
   "source": [
    "Conclusion: Naive Bayes didn't perform well as compared to the other ones."
   ]
  },
  {
   "cell_type": "code",
   "execution_count": null,
   "id": "3044efec-21c3-4d2b-a002-cbf6adcfbe7a",
   "metadata": {},
   "outputs": [],
   "source": []
  },
  {
   "cell_type": "code",
   "execution_count": 101,
   "id": "97965860-edf2-4afa-9155-af9fb881ec14",
   "metadata": {},
   "outputs": [],
   "source": [
    "from sklearn import metrics\n",
    "svm_accuracy = metrics.accuracy_score(ytestS, svc_pred)\n",
    "svm_precision = metrics.precision_score(ytestS, svc_pred)\n",
    "svm_f1 = f1_score(ytestS, svc_pred)"
   ]
  },
  {
   "cell_type": "code",
   "execution_count": 102,
   "id": "2fee0417-3351-4357-b49e-bce84ddfd2fc",
   "metadata": {},
   "outputs": [],
   "source": [
    "nb_accuracy = metrics.accuracy_score(ytest, nb_pred)\n",
    "nb_precision = metrics.precision_score(ytest, nb_pred)\n",
    "nb_f1 = f1_score(ytest, nb_pred)"
   ]
  },
  {
   "cell_type": "code",
   "execution_count": 103,
   "id": "2f17eaff-e9eb-483c-a9d6-6710f0b4fe69",
   "metadata": {},
   "outputs": [
    {
     "name": "stdout",
     "output_type": "stream",
     "text": [
      "0.6323529411764706 0.9990051847430451 0.7107438016528925 0.6692607003891051\n"
     ]
    }
   ],
   "source": [
    "print(lr_recall,lr_accuracy,lr_precision,lr_f1)"
   ]
  },
  {
   "cell_type": "code",
   "execution_count": 104,
   "id": "151369b2-5b62-480e-a3ad-116989578b25",
   "metadata": {},
   "outputs": [
    {
     "name": "stdout",
     "output_type": "stream",
     "text": [
      "0.8014705882352942 0.9994265182636377 0.8320610687022901 0.8164794007490637\n"
     ]
    }
   ],
   "source": [
    "print(svc_recall,svm_accuracy,svm_precision,svm_f1)"
   ]
  },
  {
   "cell_type": "code",
   "execution_count": 105,
   "id": "57cfa7c0-4d93-426f-a4b0-a328785c77ec",
   "metadata": {},
   "outputs": [
    {
     "name": "stdout",
     "output_type": "stream",
     "text": [
      "0.6617647058823529 0.9930479969102208 0.14106583072100312 0.2325581395348837\n"
     ]
    }
   ],
   "source": [
    "print(nb_recall,nb_accuracy,nb_precision,nb_f1)"
   ]
  },
  {
   "cell_type": "code",
   "execution_count": 106,
   "id": "f2d1321e-682d-419d-aee9-db60dca30659",
   "metadata": {},
   "outputs": [
    {
     "data": {
      "image/png": "[encoded data removed]",
      "text/plain": [
       "<Figure size 864x576 with 1 Axes>"
      ]
     },
     "metadata": {},
     "output_type": "display_data"
    }
   ],
   "source": [
    "# set width of bar\n",
    "barWidth = 0.2\n",
    "fig = plt.subplots(figsize =(12, 8))\n",
    " \n",
    "# set height of bar\n",
    "rec = [0.63, 0.80, 0.66]\n",
    "acc = [0.99, 0.99, 0.99]\n",
    "pre = [0.71, 0.83, 0.14]\n",
    "fs1 = [0.67, 0.81, 0.23]\n",
    " \n",
    "# Set position of bar on X axis\n",
    "br1 = np.arange(len(rec))\n",
    "br2 = [x + barWidth for x in br1]\n",
    "br3 = [x + barWidth for x in br2]\n",
    "br4 = [x + barWidth for x in br3]\n",
    " \n",
    "# Make the plot\n",
    "plt.bar(br1, rec, color ='r', width = barWidth,\n",
    "        edgecolor ='grey', label ='Recall')\n",
    "plt.bar(br2, acc, color ='g', width = barWidth,\n",
    "        edgecolor ='grey', label ='Accuracy')\n",
    "plt.bar(br3, pre, color ='b', width = barWidth,\n",
    "        edgecolor ='grey', label ='Precision')\n",
    "plt.bar(br4, fs1, color ='y', width = barWidth,\n",
    "        edgecolor ='grey', label ='F1-score')\n",
    " \n",
    "# Adding Xticks\n",
    "plt.xlabel('Algorithm', fontweight ='bold', fontsize = 15)\n",
    "plt.ylabel('Merit values', fontweight ='bold', fontsize = 15)\n",
    "plt.xticks([r + barWidth for r in range(len(rec))],\n",
    "        ['LR', 'SVM', 'NB'])\n",
    " \n",
    "plt.legend()\n",
    "plt.show()"
   ]
  },
  {
   "cell_type": "code",
   "execution_count": null,
   "id": "b09506c6-5949-4a6e-96da-892681106f42",
   "metadata": {},
   "outputs": [],
   "source": []
  },
  {
   "cell_type": "code",
   "execution_count": null,
   "id": "61512cfe-330d-4cb4-9e18-2b75cbf59063",
   "metadata": {},
   "outputs": [],
   "source": []
  },
  {
   "cell_type": "code",
   "execution_count": null,
   "id": "eb670597-36cf-4427-ad77-2ca40026d70b",
   "metadata": {},
   "outputs": [],
   "source": []
  },
  {
   "cell_type": "code",
   "execution_count": null,
   "id": "0053c6a6-3b92-4df3-8243-025ed869d247",
   "metadata": {},
   "outputs": [],
   "source": []
  }
 ],
 "metadata": {
  "kernelspec": {
   "display_name": "Python 3 (ipykernel)",
   "language": "python",
   "name": "python3"
  },
  "language_info": {
   "codemirror_mode": {
    "name": "ipython",
    "version": 3
   },
   "file_extension": ".py",
   "mimetype": "text/x-python",
   "name": "python",
   "nbconvert_exporter": "python",
   "pygments_lexer": "ipython3",
   "version": "3.9.13"
  }
 },
 "nbformat": 4,
 "nbformat_minor": 5
}
